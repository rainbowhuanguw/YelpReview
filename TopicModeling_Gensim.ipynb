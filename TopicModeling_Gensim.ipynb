{
  "nbformat": 4,
  "nbformat_minor": 0,
  "metadata": {
    "kernelspec": {
      "name": "python3",
      "display_name": "Python 3"
    },
    "language_info": {
      "codemirror_mode": {
        "name": "ipython",
        "version": 3
      },
      "file_extension": ".py",
      "mimetype": "text/x-python",
      "name": "python",
      "nbconvert_exporter": "python",
      "pygments_lexer": "ipython3",
      "version": "3.7.3"
    },
    "colab": {
      "name": "TopicModeling_Gensim.ipynb",
      "provenance": [],
      "collapsed_sections": [
        "101c858S8Hs7",
        "z0mUtTMm8HtA",
        "YuZxjDU68HtF",
        "eECtSl7_8HtS",
        "PFrKB-hW8HtZ",
        "GvF-TG4n8Htl",
        "Tq3HVbU38Hto",
        "vaCw05fm8Htt"
      ]
    },
    "accelerator": "GPU"
  },
  "cells": [
    {
      "cell_type": "markdown",
      "metadata": {
        "id": "dH4EF8338HsS",
        "colab_type": "text"
      },
      "source": [
        "## Topic Modeling - Gensim"
      ]
    },
    {
      "cell_type": "markdown",
      "metadata": {
        "id": "gBVLOOtS8HsW",
        "colab_type": "text"
      },
      "source": [
        "NOTE: Review used for modeling was picked based on business_id, I only picked those given to certain businesses, specifically to those received more than 3,000 reviews in total. \n",
        "There are 30 restaurants qualified for that standard. \n",
        "\n",
        "The dataset contains 58,972 rows and 7 columns. "
      ]
    },
    {
      "cell_type": "code",
      "metadata": {
        "id": "u626eoAl8Hsf",
        "colab_type": "code",
        "colab": {}
      },
      "source": [
        "import re\n",
        "import numpy as np\n",
        "import pandas as pd\n",
        "import json\n",
        "from pprint import pprint\n",
        "\n",
        "# Gensim\n",
        "import gensim\n",
        "import gensim.corpora as corpora\n",
        "from gensim.utils import simple_preprocess\n",
        "from gensim.models import CoherenceModel\n",
        "from smart_open import smart_open\n",
        "\n",
        "# spacy for lemmatization\n",
        "import spacy\n",
        "\n",
        "# Plotting tools\n",
        "import pyLDAvis\n",
        "import pyLDAvis.gensim  # don't skip this\n",
        "import matplotlib.pyplot as plt\n",
        "%matplotlib inline\n",
        "\n",
        "# Enable logging for gensim - optional\n",
        "import logging\n",
        "logging.basicConfig(format='%(asctime)s : %(levelname)s : %(message)s', level=logging.ERROR)\n",
        "\n",
        "import warnings\n",
        "warnings.filterwarnings(\"ignore\",category=DeprecationWarning)\n",
        "\n",
        "import zipfile"
      ],
      "execution_count": 0,
      "outputs": []
    },
    {
      "cell_type": "code",
      "metadata": {
        "id": "P5QMa2L5M3HI",
        "colab_type": "code",
        "colab": {}
      },
      "source": [
        "!pip install pyLDAvis"
      ],
      "execution_count": 0,
      "outputs": []
    },
    {
      "cell_type": "markdown",
      "metadata": {
        "id": "bQDlkrk48Hsh",
        "colab_type": "text"
      },
      "source": [
        "### 1. Import Stopwords"
      ]
    },
    {
      "cell_type": "code",
      "metadata": {
        "id": "Lk3gb8oUNIi6",
        "colab_type": "code",
        "colab": {}
      },
      "source": [
        "import nltk\n",
        "nltk.download('stopwords')"
      ],
      "execution_count": 0,
      "outputs": []
    },
    {
      "cell_type": "code",
      "metadata": {
        "id": "zk4Uh6fF8Hsi",
        "colab_type": "code",
        "outputId": "288d86c8-88e5-435f-d473-360689708d3d",
        "colab": {
          "base_uri": "https://localhost:8080/",
          "height": 54
        }
      },
      "source": [
        "from nltk.corpus import stopwords\n",
        "stop_words = stopwords.words('english')\n",
        "stop_words.extend(['restaurant', 'restaurants'])\n",
        "print(stop_words)"
      ],
      "execution_count": 8,
      "outputs": [
        {
          "output_type": "stream",
          "text": [
            "['i', 'me', 'my', 'myself', 'we', 'our', 'ours', 'ourselves', 'you', \"you're\", \"you've\", \"you'll\", \"you'd\", 'your', 'yours', 'yourself', 'yourselves', 'he', 'him', 'his', 'himself', 'she', \"she's\", 'her', 'hers', 'herself', 'it', \"it's\", 'its', 'itself', 'they', 'them', 'their', 'theirs', 'themselves', 'what', 'which', 'who', 'whom', 'this', 'that', \"that'll\", 'these', 'those', 'am', 'is', 'are', 'was', 'were', 'be', 'been', 'being', 'have', 'has', 'had', 'having', 'do', 'does', 'did', 'doing', 'a', 'an', 'the', 'and', 'but', 'if', 'or', 'because', 'as', 'until', 'while', 'of', 'at', 'by', 'for', 'with', 'about', 'against', 'between', 'into', 'through', 'during', 'before', 'after', 'above', 'below', 'to', 'from', 'up', 'down', 'in', 'out', 'on', 'off', 'over', 'under', 'again', 'further', 'then', 'once', 'here', 'there', 'when', 'where', 'why', 'how', 'all', 'any', 'both', 'each', 'few', 'more', 'most', 'other', 'some', 'such', 'no', 'nor', 'not', 'only', 'own', 'same', 'so', 'than', 'too', 'very', 's', 't', 'can', 'will', 'just', 'don', \"don't\", 'should', \"should've\", 'now', 'd', 'll', 'm', 'o', 're', 've', 'y', 'ain', 'aren', \"aren't\", 'couldn', \"couldn't\", 'didn', \"didn't\", 'doesn', \"doesn't\", 'hadn', \"hadn't\", 'hasn', \"hasn't\", 'haven', \"haven't\", 'isn', \"isn't\", 'ma', 'mightn', \"mightn't\", 'mustn', \"mustn't\", 'needn', \"needn't\", 'shan', \"shan't\", 'shouldn', \"shouldn't\", 'wasn', \"wasn't\", 'weren', \"weren't\", 'won', \"won't\", 'wouldn', \"wouldn't\", 'restaurant', 'restaurants']\n"
          ],
          "name": "stdout"
        }
      ]
    },
    {
      "cell_type": "markdown",
      "metadata": {
        "id": "IGlNupWf8Hsk",
        "colab_type": "text"
      },
      "source": [
        "### 2. Import dataset"
      ]
    },
    {
      "cell_type": "code",
      "metadata": {
        "id": "HXErsis7_hlt",
        "colab_type": "code",
        "colab": {}
      },
      "source": [
        "from google.colab import drive\n",
        "drive.mount('/content/gdrive')\n",
        "\n",
        "% cd /content/gdrive/Shared\\ drives/IMT\\ 575\\ Project\\ Group/1\\ Data\\ Cleaning/new\\ data\n"
      ],
      "execution_count": 0,
      "outputs": []
    },
    {
      "cell_type": "code",
      "metadata": {
        "id": "MBPc4zCGImyy",
        "colab_type": "code",
        "outputId": "ffc773d7-2569-459d-8372-6b680a8a5f1e",
        "colab": {
          "base_uri": "https://localhost:8080/",
          "height": 71
        }
      },
      "source": [
        "!unzip '/content/gdrive/Shared drives/IMT 575 Project Group/1 Data Cleaning/new data/reviews_join_textblob_cleaned_v2.txt.zip'"
      ],
      "execution_count": 10,
      "outputs": [
        {
          "output_type": "stream",
          "text": [
            "Archive:  /content/gdrive/Shared drives/IMT 575 Project Group/1 Data Cleaning/new data/reviews_join_textblob_cleaned_v2.txt.zip\n",
            "replace reviews_join_textblob_cleaned_v2.txt? [y]es, [n]o, [A]ll, [N]one, [r]ename: n\n"
          ],
          "name": "stdout"
        }
      ]
    },
    {
      "cell_type": "markdown",
      "metadata": {
        "id": "IjEHw8GZ9S5E",
        "colab_type": "text"
      },
      "source": [
        "method 1 : Process one line at a time"
      ]
    },
    {
      "cell_type": "code",
      "metadata": {
        "id": "0gkku3rE9L-c",
        "colab_type": "code",
        "colab": {
          "base_uri": "https://localhost:8080/",
          "height": 412
        },
        "outputId": "e0e3b3bb-9763-46e6-e23d-f9937d3607a8"
      },
      "source": [
        "class BoWcorpus():\n",
        "    '''create corpus for a file, reading line by line\n",
        "    format : nested list, (word, word count)\n",
        "    @ filename : file name or path\n",
        "    @ dictionary : corpora.Dictionary()\n",
        "    '''\n",
        "    def __init__(self, filename, dictionary):\n",
        "        self.filename = filename\n",
        "        self.dictionary = dictionary\n",
        "\n",
        "    def __iter__(self):\n",
        "        global my_dict \n",
        "        c = 0\n",
        "        for line in smart_open(self.filename, encoding = 'utf-8'):\n",
        "            c += 1\n",
        "            if c > 10: break #testing\n",
        "\n",
        "            # get only text \n",
        "            line = line.split('|')\n",
        "            text = line[6]\n",
        "\n",
        "            #tokenize\n",
        "            tokenize_list = simple_preprocess(str(text), deacc = True) # deacc = True removes punctuations\n",
        "\n",
        "            #create bag of words\n",
        "            bow = self.dictionary.doc2bow(tokenized_list, allow_update = True)\n",
        "\n",
        "            # update the dictionary\n",
        "            my_dict.merge_with(self.dictionary)\n",
        "            \n",
        "            #yield returns a series of values without storing them in memory\n",
        "            yield bow\n",
        "\n",
        "#create the dictionary\n",
        "my_dict = corpora.Dictionary()\n",
        "\n",
        "#create corpus\n",
        "#format: a nested list of one list representing one file\n",
        "# within small lists are tuples(id, word count)\n",
        "bow_corpus = BoWcorpus('reviews_join_textblob_cleaned_v2.txt', my_dict)\n",
        "\n",
        "#print\n",
        "for line in bow_corpus:\n",
        "    print(line)\n"
      ],
      "execution_count": 33,
      "outputs": [
        {
          "output_type": "stream",
          "text": [
            "/usr/local/lib/python3.6/dist-packages/smart_open/smart_open_lib.py:402: UserWarning: This function is deprecated, use smart_open.open instead. See the migration notes for details: https://github.com/RaRe-Technologies/smart_open/blob/master/README.rst#migrating-to-the-new-open-function\n",
            "  'See the migration notes for details: %s' % _MIGRATION_NOTES_URL\n"
          ],
          "name": "stderr"
        },
        {
          "output_type": "error",
          "ename": "TypeError",
          "evalue": "ignored",
          "traceback": [
            "\u001b[0;31m---------------------------------------------------------------------------\u001b[0m",
            "\u001b[0;31mTypeError\u001b[0m                                 Traceback (most recent call last)",
            "\u001b[0;32m<ipython-input-33-500d2e1c18d2>\u001b[0m in \u001b[0;36m<module>\u001b[0;34m()\u001b[0m\n\u001b[1;32m     38\u001b[0m \u001b[0;34m\u001b[0m\u001b[0m\n\u001b[1;32m     39\u001b[0m \u001b[0;31m#print\u001b[0m\u001b[0;34m\u001b[0m\u001b[0;34m\u001b[0m\u001b[0;34m\u001b[0m\u001b[0m\n\u001b[0;32m---> 40\u001b[0;31m \u001b[0;32mfor\u001b[0m \u001b[0mline\u001b[0m \u001b[0;32min\u001b[0m \u001b[0mbow_corpus\u001b[0m\u001b[0;34m:\u001b[0m\u001b[0;34m\u001b[0m\u001b[0;34m\u001b[0m\u001b[0m\n\u001b[0m\u001b[1;32m     41\u001b[0m     \u001b[0mprint\u001b[0m\u001b[0;34m(\u001b[0m\u001b[0mline\u001b[0m\u001b[0;34m)\u001b[0m\u001b[0;34m\u001b[0m\u001b[0;34m\u001b[0m\u001b[0m\n",
            "\u001b[0;32m<ipython-input-33-500d2e1c18d2>\u001b[0m in \u001b[0;36m__iter__\u001b[0;34m(self)\u001b[0m\n\u001b[1;32m     22\u001b[0m \u001b[0;34m\u001b[0m\u001b[0m\n\u001b[1;32m     23\u001b[0m             \u001b[0;31m#create bag of words\u001b[0m\u001b[0;34m\u001b[0m\u001b[0;34m\u001b[0m\u001b[0;34m\u001b[0m\u001b[0m\n\u001b[0;32m---> 24\u001b[0;31m             \u001b[0mbow\u001b[0m \u001b[0;34m=\u001b[0m \u001b[0mself\u001b[0m\u001b[0;34m.\u001b[0m\u001b[0mdictionary\u001b[0m\u001b[0;34m.\u001b[0m\u001b[0mdoc2bow\u001b[0m\u001b[0;34m(\u001b[0m\u001b[0mtokenized_list\u001b[0m\u001b[0;34m,\u001b[0m \u001b[0mallow_update\u001b[0m \u001b[0;34m=\u001b[0m \u001b[0;32mTrue\u001b[0m\u001b[0;34m)\u001b[0m\u001b[0;34m\u001b[0m\u001b[0;34m\u001b[0m\u001b[0m\n\u001b[0m\u001b[1;32m     25\u001b[0m \u001b[0;34m\u001b[0m\u001b[0m\n\u001b[1;32m     26\u001b[0m             \u001b[0;31m# update the dictionary\u001b[0m\u001b[0;34m\u001b[0m\u001b[0;34m\u001b[0m\u001b[0;34m\u001b[0m\u001b[0m\n",
            "\u001b[0;32m/usr/local/lib/python3.6/dist-packages/gensim/corpora/dictionary.py\u001b[0m in \u001b[0;36mdoc2bow\u001b[0;34m(self, document, allow_update, return_missing)\u001b[0m\n\u001b[1;32m    243\u001b[0m         \u001b[0mcounter\u001b[0m \u001b[0;34m=\u001b[0m \u001b[0mdefaultdict\u001b[0m\u001b[0;34m(\u001b[0m\u001b[0mint\u001b[0m\u001b[0;34m)\u001b[0m\u001b[0;34m\u001b[0m\u001b[0;34m\u001b[0m\u001b[0m\n\u001b[1;32m    244\u001b[0m         \u001b[0;32mfor\u001b[0m \u001b[0mw\u001b[0m \u001b[0;32min\u001b[0m \u001b[0mdocument\u001b[0m\u001b[0;34m:\u001b[0m\u001b[0;34m\u001b[0m\u001b[0;34m\u001b[0m\u001b[0m\n\u001b[0;32m--> 245\u001b[0;31m             \u001b[0mcounter\u001b[0m\u001b[0;34m[\u001b[0m\u001b[0mw\u001b[0m \u001b[0;32mif\u001b[0m \u001b[0misinstance\u001b[0m\u001b[0;34m(\u001b[0m\u001b[0mw\u001b[0m\u001b[0;34m,\u001b[0m \u001b[0municode\u001b[0m\u001b[0;34m)\u001b[0m \u001b[0;32melse\u001b[0m \u001b[0municode\u001b[0m\u001b[0;34m(\u001b[0m\u001b[0mw\u001b[0m\u001b[0;34m,\u001b[0m \u001b[0;34m'utf-8'\u001b[0m\u001b[0;34m)\u001b[0m\u001b[0;34m]\u001b[0m \u001b[0;34m+=\u001b[0m \u001b[0;36m1\u001b[0m\u001b[0;34m\u001b[0m\u001b[0;34m\u001b[0m\u001b[0m\n\u001b[0m\u001b[1;32m    246\u001b[0m \u001b[0;34m\u001b[0m\u001b[0m\n\u001b[1;32m    247\u001b[0m         \u001b[0mtoken2id\u001b[0m \u001b[0;34m=\u001b[0m \u001b[0mself\u001b[0m\u001b[0;34m.\u001b[0m\u001b[0mtoken2id\u001b[0m\u001b[0;34m\u001b[0m\u001b[0;34m\u001b[0m\u001b[0m\n",
            "\u001b[0;31mTypeError\u001b[0m: decoding to str: need a bytes-like object, list found"
          ]
        }
      ]
    },
    {
      "cell_type": "code",
      "metadata": {
        "id": "LyeOOS86Fqg8",
        "colab_type": "code",
        "colab": {}
      },
      "source": [
        "#create corpus\n",
        "\n",
        "my_corpus = [mydict.doc2bow(word, allow_update = True) for word in tokenized_list]\n",
        "#pprint(my_corpus)\n",
        "\n",
        "#get word count\n",
        "word_counts = [[(mydict[id], count) for id, count in line] for line in my_corpus]\n",
        "#pprint(word_counts)"
      ],
      "execution_count": 0,
      "outputs": []
    },
    {
      "cell_type": "code",
      "metadata": {
        "id": "Ba5mP0fJ904m",
        "colab_type": "code",
        "colab": {
          "base_uri": "https://localhost:8080/",
          "height": 54
        },
        "outputId": "d5dde018-ed3b-4605-e670-b8d297f78808"
      },
      "source": [
        "print(tokenized_list)"
      ],
      "execution_count": 19,
      "outputs": [
        {
          "output_type": "stream",
          "text": [
            "[['went', 'in', 'for', 'lunch', 'steak', 'sandwich', 'was', 'delicious', 'and', 'the', 'caesar', 'salad', 'had', 'an', 'absolutely', 'delicious', 'dressing', 'with', 'perfect', 'amount', 'of', 'dressing', 'and', 'distributed', 'perfectly', 'across', 'each', 'leaf', 'know', 'going', 'on', 'about', 'the', 'salad', 'but', 'it', 'was', 'perfect', 'drink', 'prices', 'were', 'pretty', 'good', 'the', 'server', 'dawn', 'was', 'friendly', 'and', 'accommodating', 'very', 'happy', 'with', 'her', 'in', 'summation', 'great', 'pub', 'experience', 'would', 'go', 'again'], ['ll', 'be', 'the', 'first', 'to', 'admit', 'that', 'was', 'not', 'excited', 'about', 'going', 'to', 'la', 'tavolta', 'being', 'food', 'snob', 'when', 'group', 'of', 'friends', 'suggested', 'we', 'go', 'for', 'dinner', 'looked', 'online', 'at', 'the', 'menu', 'and', 'to', 'me', 'there', 'was', 'nothing', 'special', 'and', 'it', 'seemed', 'overpriced', 'im', 'also', 'not', 'big', 'on', 'ordering', 'pasta', 'when', 'go', 'out', 'alas', 'was', 'outnumbered', 'thank', 'goodness', 'ordered', 'the', 'sea', 'bass', 'special', 'it', 'was', 'to', 'die', 'for', 'cooked', 'perfectly', 'seasoned', 'perfectly', 'perfect', 'portion', 'can', 'not', 'say', 'enough', 'good', 'things', 'about', 'this', 'dish', 'when', 'the', 'server', 'asked', 'how', 'it', 'was', 'he', 'seemed', 'very', 'proud', 'of', 'the', 'dish', 'and', 'said', 'doesn', 'she', 'the', 'chef', 'do', 'an', 'incredible', 'job', 'she', 'does', 'my', 'hubby', 'got', 'the', 'crab', 'tortellini', 'and', 'also', 'loved', 'his', 'heard', 'mmmm', 'this', 'is', 'so', 'good', 'from', 'all', 'around', 'the', 'table', 'our', 'waiter', 'was', 'super', 'nice', 'and', 'even', 'gave', 'us', 'free', 'desserts', 'because', 'we', 'were', 'some', 'of', 'the', 'last', 'people', 'in', 'the', 'restaurant', 'service', 'was', 'very', 'slow', 'and', 'the', 'place', 'was', 'packed', 'but', 'we', 'had', 'our', 'jugs', 'of', 'wine', 'and', 'large', 'group', 'with', 'good', 'conversation', 'so', 'it', 'didn', 'seem', 'to', 'bother', 'anyone', 'so', 'do', 'order', 'the', 'calamari', 'and', 'fried', 'zucchini', 'appetizers', 'leave', 'out', 'the', 'mussels', 'if', 'they', 'have', 'the', 'sea', 'bass', 'special', 'highly', 'recommend', 'it', 'the', 'chicken', 'parm', 'and', 'crab', 'tortellini', 'were', 'also', 'very', 'good', 'and', 'very', 'big', 'the', 'chicken', 'romano', 'was', 'bit', 'bland', 'the', 'house', 'salads', 'were', 'teeny', 'do', 'make', 'reservation', 'but', 'still', 'expect', 'to', 'wait', 'for', 'your', 'food', 'go', 'with', 'large', 'group', 'of', 'people', 'and', 'plan', 'for', 'it', 'to', 'be', 'loud', 'don', 'go', 'with', 'date', 'unless', 'you', 're', 'fighting', 'and', 'don', 'feel', 'like', 'hearing', 'anything', 'they', 'have', 'to', 'say', 'ask', 'to', 'sit', 'in', 'the', 'side', 'room', 'if', 'it', 'available'], ['tracy', 'dessert', 'had', 'big', 'name', 'in', 'hong', 'kong', 'and', 'the', 'one', 'in', 'first', 'markham', 'place', 'has', 'been', 'here', 'for', 'many', 'years', 'now', 'came', 'in', 'for', 'some', 'chinese', 'dessert', 'and', 'must', 'say', 'their', 'selection', 'has', 'increased', 'tremendously', 'over', 'the', 'years', 'might', 'as', 'well', 'add', 'that', 'the', 'price', 'has', 'also', 'increased', 'tremendously', 'as', 'well', 'the', 'waitress', 'gave', 'us', 'tea', 'which', 'could', 'taste', 'had', 'red', 'date', 'in', 'it', 'fancy', 'simple', 'taro', 'with', 'coconut', 'with', 'tapioca', 'pearls', 'was', 'like', 'or', 'something', 'basically', 'all', 'the', 'desserts', 'were', 'more', 'than', 'that', 'crazy', 'can', 'literally', 'just', 'make', 'this', 'dessert', 'at', 'home', 'and', 'for', 'bowl', 'it', 'would', 'probably', 'cost', 'like', 'few', 'years', 'ago', 'think', 'can', 'still', 'get', 'it', 'for', 'like', 'which', 'is', 'more', 'reasonable', 'but', 'wow', 'more', 'than', 'is', 'little', 'over', 'the', 'top', 'for', 'this', 'dessert', 'though', 'must', 'say', 'it', 'is', 'tracy', 'dessert', 'and', 'they', 'are', 'little', 'more', 'on', 'the', 'expensive', 'side', 'also', 'saw', 'other', 'items', 'on', 'the', 'menu', 'like', 'fish', 'balls', 'chicken', 'wings', 'shaved', 'ice', 'my', 'friend', 'got', 'mango', 'drink', 'with', 'fresh', 'mango', 'in', 'it', 'also', 'surprised', 'how', 'many', 'people', 'come', 'to', 'tracy', 'dessert', 'after', 'work', 'we', 'came', 'on', 'sunday', 'and', 'the', 'tables', 'were', 'always', 'filled', 'think', 'the', 'amount', 'of', 'tables', 'they', 'had', 'were', 'just', 'perfect', 'because', 'no', 'one', 'really', 'waited', 'for', 'seats', 'for', 'long', 'time', 'but', 'the', 'tables', 'kept', 'filling', 'up', 'once', 'table', 'was', 'finished'], ['this', 'place', 'has', 'gone', 'down', 'hill', 'clearly', 'they', 'have', 'cut', 'back', 'on', 'staff', 'and', 'food', 'qualitymany', 'of', 'the', 'reviews', 'were', 'written', 'before', 'the', 'menu', 'changed', 've', 'been', 'going', 'for', 'years', 'and', 'the', 'food', 'quality', 'has', 'gone', 'down', 'hill', 'the', 'service', 'is', 'slow', 'my', 'salad', 'which', 'was', 'was', 'as', 'bad', 'as', 'it', 'gets', 'it', 'just', 'not', 'worth', 'spending', 'the', 'money', 'on', 'this', 'place', 'when', 'there', 'are', 'so', 'many', 'other', 'options'], ['like', 'walking', 'back', 'in', 'time', 'every', 'saturday', 'morning', 'my', 'sister', 'and', 'was', 'in', 'bowling', 'league', 'and', 'after', 'we', 'were', 'done', 'we', 'spend', 'few', 'quarters', 'playing', 'the', 'pin', 'ball', 'machines', 'until', 'our', 'mother', 'came', 'to', 'pick', 'us', 'up', 'my', 'sister', 'was', 'daring', 'and', 'play', 'the', 'machines', 'hard', 'she', 'was', 'afraid', 'of', 'that', 'tilt', 'showing', 'up', 'and', 'freezing', 'the', 'game', 'on', 'the', 'other', 'hand', 'was', 'bit', 'more', 'gentler', 'and', 'wanted', 'to', 'make', 'sure', 'got', 'my', 'quarter', 'worth', 'this', 'place', 'has', 'rows', 'and', 'rows', 'of', 'machines', 'some', 'are', 'really', 'old', 'and', 'some', 'are', 'more', 'of', 'mid', 'theme', 'there', 'is', 'even', 'ms', 'pac', 'man', 'it', 'was', 'fun', 'to', 'spend', 'an', 'afternoon', 'playing', 'the', 'machines', 'and', 'remembering', 'all', 'the', 'fun', 'of', 'my', 'early', 'teen', 'years'], ['walked', 'in', 'around', 'on', 'friday', 'afternoon', 'we', 'sat', 'at', 'table', 'just', 'off', 'the', 'bar', 'and', 'walked', 'out', 'after', 'min', 'or', 'so', 'don', 'even', 'think', 'they', 'realized', 'we', 'walked', 'in', 'however', 'everyone', 'at', 'the', 'bar', 'noticed', 'we', 'walked', 'in', 'service', 'was', 'non', 'existent', 'at', 'best', 'not', 'good', 'way', 'for', 'new', 'business', 'to', 'start', 'out', 'oh', 'well', 'the', 'location', 'they', 'are', 'at', 'has', 'been', 'about', 'different', 'things', 'over', 'the', 'past', 'several', 'years', 'so', 'they', 'will', 'just', 'be', 'added', 'to', 'the', 'list', 'smdh'], ['wow', 'so', 'surprised', 'at', 'the', 'one', 'and', 'two', 'star', 'reviews', 'we', 'started', 'with', 'the', 'most', 'tender', 'calamari', 'although', 'the', 'marinara', 'sauce', 'was', 'bit', 'bland', 'but', 'touch', 'of', 'salt', 'made', 'it', 'just', 'right', 'my', 'husband', 'had', 'the', 'veal', 'with', 'peppers', 'and', 'said', 'it', 'was', 'so', 'delicious', 'and', 'tender', 'the', 'mashed', 'potatoes', 'were', 'perfect', 'had', 'the', 'salmon', 'diablo', 'which', 'was', 'also', 'delicious', 'our', 'salad', 'was', 'beautiful', 'dressing', 'was', 'served', 'on', 'the', 'salad', 'and', 'it', 'was', 'nice', 'amount', 'we', 'ended', 'our', 'delicious', 'meal', 'with', 'piece', 'of', 'tiramisu', 'our', 'server', 'matt', 'was', 'right', 'on', 'very', 'pleasant', 'and', 'knowledgeable', 'about', 'the', 'menu', 'our', 'appetizer', 'salad', 'and', 'entrees', 'were', 'timed', 'perfectly', 'love', 'salad', 'and', 'did', 'not', 'mind', 'that', 'my', 'entree', 'was', 'served', 'while', 'was', 'still', 'eating', 'it', 'no', 'problem', 'it', 'let', 'my', 'dinner', 'cool', 'to', 'just', 'the', 'right', 'temp', 'for', 'me', 'to', 'eat', 'it', 'comfortably', 'wonder', 'sometimes', 'if', 'people', 'just', 'don', 'appreciate', 'relaxing', 'and', 'taking', 'time', 'to', 'eat', 'wonderful', 'and', 'beautifully', 'prepared', 'meal', 'wonderful', 'atmosphere', 'so', 'relaxing', 'the', 'chairs', 'are', 'super', 'comfortable', 'too', 'we', 'will', 'certainly', 'be', 'back', 'give', 'it', 'try', 'don', 'always', 'go', 'by', 'the', 'reviews', 'bottle', 'of', 'riesling', 'calamari', 'app', 'two', 'delicious', 'entrees', 'and', 'dessert', 'for', 'well', 'with', 'it'], ['cannot', 'believe', 'how', 'things', 'have', 'changed', 'in', 'years', 'picked', 'up', 'duck', 'congee', 'sometime', 'in', 'the', 'winter', 'when', 'my', 'hubby', 'was', 'sick', 'was', 'very', 'disappointed', 'because', 'the', 'ginger', 'fish', 'sauce', 'tasted', 'like', 'it', 'had', 'gone', 'bad', 'it', 'should', 'never', 'be', 'bitter', 'today', 'my', 'hubby', 'wanted', 'to', 'eat', 'there', 'since', 'he', 'was', 'craving', 'the', 'duck', 'congee', 'and', 'most', 'places', 'don', 'serve', 'the', 'duck', 'coleslaw', 'side', 'we', 'waited', 'about', 'minutes', 'to', 'get', 'our', 'menu', 'after', 'we', 'placed', 'our', 'orders', 'we', 'waited', 'another', 'minutes', 'to', 'get', 'the', 'tea', 'that', 'most', 'places', 'bring', 'with', 'the', 'menu', 'could', 'go', 'on', 'with', 'the', 'details', 'but', 'the', 'gist', 'of', 'the', 'story', 'is', 'they', 'were', 'understaffed', 'or', 'the', 'staff', 'was', 'slow', 'the', 'worst', 'part', 'of', 'it', 'was', 'that', 'the', 'service', 'the', 'servers', 'make', 'us', 'feel', 'bad', 'for', 'asking', 'for', 'anything', 'like', 'when', 'they', 'took', 'our', 'order', 'we', 'had', 'arrived', 'and', 'placed', 'our', 'order', 'before', 'another', 'couple', 'bside', 'us', 'at', 'least', 'minutes', 'ahead', 'but', 'somehow', 'this', 'couple', 'received', 'their', 'pho', 'before', 'mine', 'they', 'were', 'almost', 'done', 'eating', 'their', 'pho', 'before', 'mine', 'came', 'out'], ['you', 'can', 'really', 'find', 'anything', 'wrong', 'with', 'this', 'place', 'the', 'pastas', 'and', 'pizzas', 'are', 'both', 'amazing', 'and', 'high', 'quality', 'the', 'price', 'is', 'very', 'reasonable', 'the', 'owner', 'and', 'the', 'staff', 'are', 'very', 'friendly', 'if', 'you', 're', 'in', 'downtown', 'check', 'this', 'place', 'out', 'lot', 'of', 'people', 'think', 'just', 'because', 'it', 'downtown', 'there', 'are', 'lots', 'of', 'options', 'around', 'but', 'that', 'not', 'always', 'the', 'case', 'as', 'there', 'is', 'also', 'lot', 'of', 'poor', 'quality', 'food', 'in', 'downtown', 'as', 'well'], ['great', 'lunch', 'today', 'staff', 'was', 'very', 'helpful', 'in', 'assisting', 'with', 'selections', 'and', 'knowledgeable', 'on', 'the', 'ingredients', 'we', 'enjoyed', 'the', 'bbq', 'chicken', 'with', 'tika', 'masala', 'sauce', 'and', 'really', 'good', 'naan', 'bread', 'the', 'biryani', 'with', 'chicken', 'was', 'also', 'yummy', 'fun', 'to', 'see', 'the', 'food', 'being', 'prepared', 'in', 'the', 'tandoori', 'ovens', 'great', 'addition', 'to', 'the', 'fast', 'casual', 'scene', 'in', 'cleveland']]\n"
          ],
          "name": "stdout"
        }
      ]
    },
    {
      "cell_type": "markdown",
      "metadata": {
        "id": "A6qy0b7_8Hsr",
        "colab_type": "text"
      },
      "source": [
        "### 3. data cleaning \n",
        "- remove newline characters and punctions\n",
        "- tokenize"
      ]
    },
    {
      "cell_type": "code",
      "metadata": {
        "id": "yBxezS488Hss",
        "colab_type": "code",
        "outputId": "b8deab79-9041-4bb5-ceff-ea2c18774a3e",
        "colab": {
          "base_uri": "https://localhost:8080/",
          "height": 54
        }
      },
      "source": [
        "#convert all review text to \n",
        "data = df.text.values.tolist()\n",
        "print(data[0])"
      ],
      "execution_count": 11,
      "outputs": [
        {
          "output_type": "stream",
          "text": [
            " Went in for a lunch. Steak sandwich was delicious, and the Caesar salad had an absolutely delicious dressing, with a perfect amount of dressing, and distributed perfectly across each leaf. I know I'm going on about the salad ... But it was perfect.Drink prices were pretty good.The Server, Dawn, was friendly and accommodating. Very happy with her.In summation, a great pub experience. Would go again! \n"
          ],
          "name": "stdout"
        }
      ]
    },
    {
      "cell_type": "code",
      "metadata": {
        "id": "iFqhgBfG8Hsu",
        "colab_type": "code",
        "colab": {}
      },
      "source": [
        "#tokenize\n",
        "def sent_to_words(sentences):\n",
        "    for sentence in sentences:\n",
        "        yield(gensim.utils.simple_preprocess(str(sentence), deacc=True))  # deacc=True removes punctuations\n",
        "\n",
        "data_words = list(sent_to_words(data))\n",
        "\n",
        "print(data_words[:1])"
      ],
      "execution_count": 0,
      "outputs": []
    },
    {
      "cell_type": "markdown",
      "metadata": {
        "id": "AJmMgjRB8Hsw",
        "colab_type": "text"
      },
      "source": [
        "### 4. Creating bigram and trigram model"
      ]
    },
    {
      "cell_type": "code",
      "metadata": {
        "id": "lDooOTSb8Hsx",
        "colab_type": "code",
        "outputId": "40fb402e-7bd3-4990-f9d8-65661816b988",
        "colab": {}
      },
      "source": [
        "# Build the bigram and trigram models\n",
        "bigram = gensim.models.Phrases(data_words, min_count=5, threshold=50) # higher threshold fewer phrases.\n",
        "trigram = gensim.models.Phrases(bigram[data_words], threshold=50)  # by default, min_count = 5, threshold = 5\n",
        "\n",
        "# Faster way to get a sentence clubbed as a trigram/bigram\n",
        "bigram_mod = gensim.models.phrases.Phraser(bigram)\n",
        "trigram_mod = gensim.models.phrases.Phraser(trigram)\n",
        "\n",
        "# See trigram example\n",
        "print(trigram_mod[bigram_mod[data_words[10]]])"
      ],
      "execution_count": 0,
      "outputs": [
        {
          "output_type": "stream",
          "text": [
            "['hands_down', 'the', 'best', 'place', 'to', 'eat', 'in', 'vegas', 'the', 'food', 'is', 'priced', 'well', 'and', 'the', 'food', 'is', 'delicious', 'would', 'have', 'eaten', 'here', 'everyday', 'if', 'known', 'this', 'place', 'was', 'here', 'my', 'wife', 'absolutely', 'loves', 'this', 'place', 'as', 'well', 'service', 'was', 'awesome', 'which', 'is', 'bonus']\n"
          ],
          "name": "stdout"
        }
      ]
    },
    {
      "cell_type": "code",
      "metadata": {
        "id": "Obsx_awl8Hs0",
        "colab_type": "code",
        "outputId": "999afae0-d103-492c-f3e4-226ac41ee727",
        "colab": {}
      },
      "source": [
        "print(trigram_mod[bigram_mod[data_words[36]]])"
      ],
      "execution_count": 0,
      "outputs": [
        {
          "output_type": "stream",
          "text": [
            "['my', 'gf', 'suggested', 'we', 'eat', 'here', 'because', 'they', 'have', 'better', 'food', 'which', 'suppose', 'is', 'implied', 'by', 'the', 'higher', 'price', 'they', 'charge', 'for', 'dinner', 'this', 'is', 'not', 'the', 'case', 'when', 'you', 're', 'in', 'vegas', 'or', 'anywhere', 'really', 'you', 'have', 'to', 'remember', 'that', 'buffet', 'is', 'buffet', 'is', 'buffet', 'sure', 'they', 've', 'got', 'kobe', 'not', 'really', 'we', 'aren', 'in', 'japan', 'beef', 'lamb', 'sushi', 'alaskan_king_crab_legs', 'snow_crab', 'flank_steak', 'shrimp_cocktail', 'but', 'it', 'all', 'tastes', 'like', 'buffet', 'quality', 'food', 'which', 'is', 'better', 'way', 'of', 'saying', 'they', 're', 'mostly', 'terrible', 'do', 'you', 'know', 'how', 'difficult', 'it', 'must', 'be', 'to', 'coordinate', 'meal', 'big', 'enough', 'to', 'feed', 'hundreds', 'if', 'not', 'thousands', 'or', 'people', 'do', 'you', 'possibly', 'think', 'quality', 'can', 'be', 'factor', 'in', 'cooking', 'these', 'meals', 'where', 'is', 'the', 'satisfaction', 'in', 'getting', 'thick', 'slice', 'of', 'kobe_beef', 'if', 'it', 'so', 'tough', 'your', 'knife', 'can', 'get', 'through', 'it', 'like', 'king_crab_legs', 'then', 'you', 'll', 'hate', 'them', 'here', 'since', 'they', 're', 'all', 'machine', 'cut', 'partially_frozen', 'and', 'it', 'tastes', 'like', 'they', 've', 'been', 'sitting', 'in', 'salt', 'water', 'bath', 'for', 'week', 'wouldn', 'even', 'mess', 'with', 'the', 'sushi', 'very', 'very', 'picky', 'about', 'my', 'fish', 'and', 'whatever', 'they', 'were', 'serving', 'here', 'looked', 'one', 'step_above', 'the', 'grocery_store', 'even', 'the', 'desserts', 'were', 'mediocre', 'if', 'you', 'want', 'to', 'eat', 'well', 'in', 'vegas', 'go', 'look', 'up', 'decent', 'restaurant', 'and', 'drop', 'the', 'you', 'spend', 'here', 'there', 'this', 'last', 'and', 'do', 'mean', 'last', 'buffet', 'visit', 'proved', 'once', 'and', 'for', 'all', 'that', 'no', 'matter', 'what', 'they', 're', 'serving', 'or', 'charging', 'nothing', 'beats', 'paying', 'for', 'freshly', 'made', 'food', 'it', 'isn', 'worth', 'cramming', 'sub_par', 'servings', 'down', 'your', 'gullet', 'just', 'to', 'justify', 'the', 'cost', 'of', 'what', 'you', 'paid', 'to', 'get', 'in', 'here', 'unless', 'you', 'have', 'no', 'discerning', 'tastes', 'or', 'you', 're', 'just', 'big', 'fatty', 'who', 'loves', 'to', 'binge', 'eat', 'hey', 'no', 'judgment', 'here', 'do', 'your', 'thing', 'then', 'this', 'just', 'isn', 'the', 'place', 'to', 'waste', 'money', 'in', 'vegas']\n"
          ],
          "name": "stdout"
        }
      ]
    },
    {
      "cell_type": "markdown",
      "metadata": {
        "id": "FdG68AX_8Hs2",
        "colab_type": "text"
      },
      "source": [
        "### 5. remove stopwords, make bigrams and lemmatize "
      ]
    },
    {
      "cell_type": "code",
      "metadata": {
        "id": "1e4goHB98Hs3",
        "colab_type": "code",
        "colab": {}
      },
      "source": [
        "# Define functions for stopwords, bigrams, trigrams and lemmatization\n",
        "def remove_stopwords(texts):\n",
        "    return [[word for word in simple_preprocess(str(doc)) if word not in stop_words] for doc in texts]\n",
        "\n",
        "def make_bigrams(texts):\n",
        "    return [bigram_mod[doc] for doc in texts]\n",
        "\n",
        "def make_trigrams(texts):\n",
        "    return [trigram_mod[bigram_mod[doc]] for doc in texts]\n",
        "\n",
        "def lemmatization(texts, allowed_postags=['NOUN', 'ADJ', 'VERB', 'ADV']):\n",
        "    \"\"\"https://spacy.io/api/annotation\"\"\"\n",
        "    texts_out = []\n",
        "    for sent in texts:\n",
        "        doc = nlp(\" \".join(sent)) \n",
        "        texts_out.append([token.lemma_ for token in doc if token.pos_ in allowed_postags])\n",
        "    return texts_out"
      ],
      "execution_count": 0,
      "outputs": []
    },
    {
      "cell_type": "code",
      "metadata": {
        "id": "n2_T_LEU8Hs5",
        "colab_type": "code",
        "outputId": "42f59fc2-4652-445a-c01b-b52a626cb65d",
        "colab": {}
      },
      "source": [
        "# Remove Stop Words\n",
        "data_words_nostops = remove_stopwords(data_words)\n",
        "\n",
        "# Form Bigrams\n",
        "data_words_bigrams = make_bigrams(data_words_nostops)\n",
        "\n",
        "# Initialize spacy 'en' model, keeping only tagger component (for efficiency)\n",
        "nlp = spacy.load('en', disable=['parser', 'ner'])\n",
        "\n",
        "# Do lemmatization keeping only noun, adj, vb, adv\n",
        "data_lemmatized = lemmatization(data_words_bigrams, allowed_postags=['NOUN', 'ADJ', 'VERB', 'ADV'])\n",
        "\n",
        "print(data_lemmatized[:1])"
      ],
      "execution_count": 0,
      "outputs": [
        {
          "output_type": "stream",
          "text": [
            "[['last', 'night', 'service', 'server', 'great', 'kind', 'forget', 'end', 'visit', 'food', 'cold', 'good', 'thing', 'crab_leg', 'suppose', 'cold', 'taco', 'freshly', 'make', 'food', 'single', 'lamp', 'heat', 'food', 'let', 'server', 'know', 'food', 'tell', 'manager', 'charge', 'come', 'ask', 'problem', 'say', 'go', 'talk', 'chief', 'idea', 'actually', 'happen', 'see', 'half', 'buffet', 'close', 'well', 'many', 'option', 'say', 'rather', 'go', 'buffet', 'high', 'end', 'casino', 'horrible', 'experience']]\n"
          ],
          "name": "stdout"
        }
      ]
    },
    {
      "cell_type": "markdown",
      "metadata": {
        "id": "101c858S8Hs7",
        "colab_type": "text"
      },
      "source": [
        "### 6. create the dictionary and corpus needed for topic modeling "
      ]
    },
    {
      "cell_type": "code",
      "metadata": {
        "id": "vyOVsxXB8Hs8",
        "colab_type": "code",
        "outputId": "e21a1541-4259-4e31-cf88-5d568065944e",
        "colab": {}
      },
      "source": [
        "# Create Dictionary\n",
        "id2word = corpora.Dictionary(data_lemmatized)\n",
        "\n",
        "# Create Corpus\n",
        "texts = data_lemmatized\n",
        "\n",
        "# Term Document Frequency\n",
        "corpus = [id2word.doc2bow(text) for text in texts]\n",
        "\n",
        "# View\n",
        "print(corpus[:1])"
      ],
      "execution_count": 0,
      "outputs": [
        {
          "output_type": "stream",
          "text": [
            "[[(0, 1), (1, 1), (2, 2), (3, 1), (4, 1), (5, 1), (6, 1), (7, 2), (8, 1), (9, 1), (10, 2), (11, 1), (12, 4), (13, 1), (14, 1), (15, 2), (16, 1), (17, 1), (18, 1), (19, 1), (20, 1), (21, 1), (22, 1), (23, 1), (24, 1), (25, 1), (26, 1), (27, 1), (28, 1), (29, 1), (30, 1), (31, 1), (32, 1), (33, 1), (34, 1), (35, 1), (36, 2), (37, 1), (38, 2), (39, 1), (40, 1), (41, 1), (42, 1), (43, 1), (44, 1), (45, 1), (46, 1), (47, 1)]]\n"
          ],
          "name": "stdout"
        }
      ]
    },
    {
      "cell_type": "code",
      "metadata": {
        "id": "GiHt_9pJ8Hs-",
        "colab_type": "code",
        "outputId": "3b5b0ad9-6546-4ed4-bc69-c5f06d02f28a",
        "colab": {}
      },
      "source": [
        "#print corpus - (term - frequency)\n",
        "[[(id2word[id], freq) for id, freq in cp] for cp in corpus[:1]]"
      ],
      "execution_count": 0,
      "outputs": [
        {
          "output_type": "execute_result",
          "data": {
            "text/plain": [
              "[[('actually', 1),\n",
              "  ('ask', 1),\n",
              "  ('buffet', 2),\n",
              "  ('casino', 1),\n",
              "  ('charge', 1),\n",
              "  ('chief', 1),\n",
              "  ('close', 1),\n",
              "  ('cold', 2),\n",
              "  ('come', 1),\n",
              "  ('crab_leg', 1),\n",
              "  ('end', 2),\n",
              "  ('experience', 1),\n",
              "  ('food', 4),\n",
              "  ('forget', 1),\n",
              "  ('freshly', 1),\n",
              "  ('go', 2),\n",
              "  ('good', 1),\n",
              "  ('great', 1),\n",
              "  ('half', 1),\n",
              "  ('happen', 1),\n",
              "  ('heat', 1),\n",
              "  ('high', 1),\n",
              "  ('horrible', 1),\n",
              "  ('idea', 1),\n",
              "  ('kind', 1),\n",
              "  ('know', 1),\n",
              "  ('lamp', 1),\n",
              "  ('last', 1),\n",
              "  ('let', 1),\n",
              "  ('make', 1),\n",
              "  ('manager', 1),\n",
              "  ('many', 1),\n",
              "  ('night', 1),\n",
              "  ('option', 1),\n",
              "  ('problem', 1),\n",
              "  ('rather', 1),\n",
              "  ('say', 2),\n",
              "  ('see', 1),\n",
              "  ('server', 2),\n",
              "  ('service', 1),\n",
              "  ('single', 1),\n",
              "  ('suppose', 1),\n",
              "  ('taco', 1),\n",
              "  ('talk', 1),\n",
              "  ('tell', 1),\n",
              "  ('thing', 1),\n",
              "  ('visit', 1),\n",
              "  ('well', 1)]]"
            ]
          },
          "metadata": {
            "tags": []
          },
          "execution_count": 32
        }
      ]
    },
    {
      "cell_type": "markdown",
      "metadata": {
        "id": "z0mUtTMm8HtA",
        "colab_type": "text"
      },
      "source": [
        "### 7. building the topic model"
      ]
    },
    {
      "cell_type": "code",
      "metadata": {
        "id": "xnDG4dPW8HtB",
        "colab_type": "code",
        "colab": {}
      },
      "source": [
        "# Build LDA model\n",
        "lda_model = gensim.models.ldamodel.LdaModel(corpus=corpus,\n",
        "                                           id2word=id2word,\n",
        "                                           num_topics=10,  #set topic number to 10\n",
        "                                           random_state=100,\n",
        "                                           update_every=1,\n",
        "                                           chunksize=100,\n",
        "                                           passes=10,\n",
        "                                           alpha='auto',\n",
        "                                           per_word_topics=True)"
      ],
      "execution_count": 0,
      "outputs": []
    },
    {
      "cell_type": "code",
      "metadata": {
        "id": "s4ZLBvUQ8HtD",
        "colab_type": "code",
        "outputId": "348f7e60-4a14-4210-e776-38f72949c969",
        "colab": {}
      },
      "source": [
        "# Print the Keyword in the 10 topics\n",
        "pprint(lda_model.print_topics())\n",
        "doc_lda = lda_model[corpus]"
      ],
      "execution_count": 0,
      "outputs": [
        {
          "output_type": "stream",
          "text": [
            "[(0,\n",
            "  '0.164*\"food\" + 0.036*\"price\" + 0.034*\"pretty\" + 0.033*\"well\" + 0.033*\"much\" '\n",
            "  '+ 0.029*\"worth\" + 0.027*\"good\" + 0.025*\"line\" + 0.020*\"star\" + 0.020*\"lot\"'),\n",
            " (1,\n",
            "  '0.091*\"wait\" + 0.050*\"server\" + 0.046*\"table\" + 0.045*\"order\" + '\n",
            "  '0.043*\"take\" + 0.036*\"minute\" + 0.029*\"ask\" + 0.026*\"check\" + '\n",
            "  '0.025*\"people\" + 0.023*\"busy\"'),\n",
            " (2,\n",
            "  '0.055*\"come\" + 0.053*\"get\" + 0.050*\"go\" + 0.038*\"time\" + 0.028*\"back\" + '\n",
            "  '0.027*\"eat\" + 0.020*\"say\" + 0.020*\"make\" + 0.018*\"even\" + 0.017*\"give\"'),\n",
            " (3,\n",
            "  '0.109*\"strip\" + 0.046*\"mushroom\" + 0.030*\"diner\" + 0.023*\"entire\" + '\n",
            "  '0.022*\"bottom\" + 0.021*\"traditional\" + 0.021*\"dog\" + 0.021*\"pass\" + '\n",
            "  '0.020*\"exceptional\" + 0.020*\"host\"'),\n",
            " (4,\n",
            "  '0.058*\"potato\" + 0.031*\"taste\" + 0.030*\"flavor\" + 0.027*\"pho\" + '\n",
            "  '0.027*\"side\" + 0.026*\"serve\" + 0.025*\"top\" + 0.024*\"cheese\" + 0.023*\"dish\" '\n",
            "  '+ 0.023*\"cook\"'),\n",
            " (5,\n",
            "  '0.323*\"burger\" + 0.220*\"fry\" + 0.042*\"truffle\" + 0.024*\"gordon_ramsay\" + '\n",
            "  '0.020*\"joint\" + 0.017*\"burgr\" + 0.016*\"medium\" + 0.012*\"bill\" + '\n",
            "  '0.012*\"ketchup\" + 0.012*\"wing\"'),\n",
            " (6,\n",
            "  '0.073*\"good\" + 0.059*\"place\" + 0.052*\"great\" + 0.044*\"service\" + '\n",
            "  '0.028*\"order\" + 0.022*\"really\" + 0.020*\"definitely\" + 0.019*\"also\" + '\n",
            "  '0.019*\"delicious\" + 0.019*\"try\"'),\n",
            " (7,\n",
            "  '0.167*\"customer\" + 0.044*\"crazy\" + 0.042*\"world\" + 0.040*\"cover\" + '\n",
            "  '0.039*\"pleasant\" + 0.035*\"simply\" + 0.027*\"typical\" + 0.024*\"normally\" + '\n",
            "  '0.023*\"value\" + 0.023*\"attitude\"'),\n",
            " (8,\n",
            "  '0.229*\"breakfast\" + 0.189*\"egg\" + 0.075*\"portion\" + 0.049*\"huge\" + '\n",
            "  '0.032*\"large\" + 0.031*\"omelet\" + 0.020*\"sausage\" + 0.017*\"bacon\" + '\n",
            "  '0.016*\"drive\" + 0.015*\"omelette\"'),\n",
            " (9,\n",
            "  '0.053*\"spot\" + 0.052*\"muffin\" + 0.038*\"night\" + 0.030*\"morning\" + '\n",
            "  '0.029*\"open\" + 0.027*\"local\" + 0.021*\"late\" + 0.019*\"area\" + 0.019*\"tip\" + '\n",
            "  '0.019*\"choose\"')]\n"
          ],
          "name": "stdout"
        }
      ]
    },
    {
      "cell_type": "markdown",
      "metadata": {
        "id": "YuZxjDU68HtF",
        "colab_type": "text"
      },
      "source": [
        "### 8. compute model perplexity and coherence score\n",
        "\n",
        "preplexity: -7.6496\n",
        "coherence: 0.3946"
      ]
    },
    {
      "cell_type": "code",
      "metadata": {
        "id": "mJ0-7HLV8HtG",
        "colab_type": "code",
        "outputId": "cad89c5e-fecb-4de0-e428-5ac2a5675032",
        "colab": {}
      },
      "source": [
        "# Compute Perplexity\n",
        "print('\\nPerplexity: ', lda_model.log_perplexity(corpus))  # a measure of how good the model is. lower the better.\n",
        "\n",
        "# Compute Coherence Score\n",
        "coherence_model_lda = CoherenceModel(model=lda_model, texts=data_lemmatized, dictionary=id2word, coherence='c_v')\n",
        "coherence_lda = coherence_model_lda.get_coherence()\n",
        "print('\\nCoherence Score: ', coherence_lda)"
      ],
      "execution_count": 0,
      "outputs": [
        {
          "output_type": "stream",
          "text": [
            "\n",
            "Perplexity:  -7.649654729442619\n"
          ],
          "name": "stdout"
        },
        {
          "output_type": "stream",
          "text": [
            "/Users/rainbowhuang/.local/lib/python3.7/site-packages/scipy/sparse/lil.py:504: FutureWarning: future versions will not create a writeable array from broadcast_array. Set the writable flag explicitly to avoid this warning.\n",
            "  if not i.flags.writeable or i.dtype not in (np.int32, np.int64):\n",
            "/Users/rainbowhuang/.local/lib/python3.7/site-packages/scipy/sparse/lil.py:506: FutureWarning: future versions will not create a writeable array from broadcast_array. Set the writable flag explicitly to avoid this warning.\n",
            "  if not j.flags.writeable or j.dtype not in (np.int32, np.int64):\n"
          ],
          "name": "stderr"
        },
        {
          "output_type": "stream",
          "text": [
            "\n",
            "Coherence Score:  0.3946798712239633\n"
          ],
          "name": "stdout"
        }
      ]
    },
    {
      "cell_type": "markdown",
      "metadata": {
        "id": "qyw_vyNs8HtO",
        "colab_type": "text"
      },
      "source": [
        "### 9. visualize the topics -keywords"
      ]
    },
    {
      "cell_type": "code",
      "metadata": {
        "id": "qlDG5zF_8HtP",
        "colab_type": "code",
        "outputId": "2fa49350-9941-41ed-c44c-cde927be8b68",
        "colab": {}
      },
      "source": [
        "# Visualize the topics\n",
        "pyLDAvis.enable_notebook()\n",
        "vis = pyLDAvis.gensim.prepare(lda_model, corpus, id2word)\n",
        "vis"
      ],
      "execution_count": 0,
      "outputs": [
        {
          "output_type": "stream",
          "text": [
            "/anaconda3/lib/python3.7/site-packages/pyLDAvis/_prepare.py:257: FutureWarning: Sorting because non-concatenation axis is not aligned. A future version\n",
            "of pandas will change to not sort by default.\n",
            "\n",
            "To accept the future behavior, pass 'sort=False'.\n",
            "\n",
            "To retain the current behavior and silence the warning, pass 'sort=True'.\n",
            "\n",
            "  return pd.concat([default_term_info] + list(topic_dfs))\n"
          ],
          "name": "stderr"
        },
        {
          "output_type": "execute_result",
          "data": {
            "text/html": [
              "\n",
              "<link rel=\"stylesheet\" type=\"text/css\" href=\"https://cdn.rawgit.com/bmabey/pyLDAvis/files/ldavis.v1.0.0.css\">\n",
              "\n",
              "\n",
              "<div id=\"ldavis_el7634180642347444243335036\"></div>\n",
              "<script type=\"text/javascript\">\n",
              "\n",
              "var ldavis_el7634180642347444243335036_data = {\"mdsDat\": {\"x\": [0.2720859109405051, 0.11543229468202597, 0.21792133527303095, 0.1563400294688231, 0.04653849769218591, -0.14042369224639414, -0.15419379913781012, -0.1415384401237977, -0.1860824468095816, -0.18607968973898792], \"y\": [-0.12477228590237201, 0.05634522315798943, 0.0905943805895258, -0.2364258585732746, 0.3755893003688805, 0.016159394886373465, -0.04697397449848298, -0.04657996144525287, -0.04493835860862656, -0.038997859974759734], \"topics\": [1, 2, 3, 4, 5, 6, 7, 8, 9, 10], \"cluster\": [1, 1, 1, 1, 1, 1, 1, 1, 1, 1], \"Freq\": [25.570688247680664, 25.229969024658203, 13.829927444458008, 10.840468406677246, 10.50169849395752, 4.86161470413208, 3.4407806396484375, 3.0405662059783936, 1.6177730560302734, 1.0665172338485718]}, \"tinfo\": {\"Category\": [\"Default\", \"Default\", \"Default\", \"Default\", \"Default\", \"Default\", \"Default\", \"Default\", \"Default\", \"Default\", \"Default\", \"Default\", \"Default\", \"Default\", \"Default\", \"Default\", \"Default\", \"Default\", \"Default\", \"Default\", \"Default\", \"Default\", \"Default\", \"Default\", \"Default\", \"Default\", \"Default\", \"Default\", \"Default\", \"Default\", \"Topic1\", \"Topic1\", \"Topic1\", \"Topic1\", \"Topic1\", \"Topic1\", \"Topic1\", \"Topic1\", \"Topic1\", \"Topic1\", \"Topic1\", \"Topic1\", \"Topic1\", \"Topic1\", \"Topic1\", \"Topic1\", \"Topic1\", \"Topic1\", \"Topic1\", \"Topic1\", \"Topic1\", \"Topic1\", \"Topic1\", \"Topic1\", \"Topic1\", \"Topic1\", \"Topic1\", \"Topic1\", \"Topic1\", \"Topic1\", \"Topic1\", \"Topic1\", \"Topic1\", \"Topic1\", \"Topic1\", \"Topic1\", \"Topic1\", \"Topic1\", \"Topic1\", \"Topic1\", \"Topic1\", \"Topic2\", \"Topic2\", \"Topic2\", \"Topic2\", \"Topic2\", \"Topic2\", \"Topic2\", \"Topic2\", \"Topic2\", \"Topic2\", \"Topic2\", \"Topic2\", \"Topic2\", \"Topic2\", \"Topic2\", \"Topic2\", \"Topic2\", \"Topic2\", \"Topic2\", \"Topic2\", \"Topic2\", \"Topic2\", \"Topic2\", \"Topic2\", \"Topic2\", \"Topic2\", \"Topic2\", \"Topic2\", \"Topic2\", \"Topic2\", \"Topic2\", \"Topic2\", \"Topic2\", \"Topic2\", \"Topic2\", \"Topic2\", \"Topic2\", \"Topic2\", \"Topic2\", \"Topic2\", \"Topic2\", \"Topic3\", \"Topic3\", \"Topic3\", \"Topic3\", \"Topic3\", \"Topic3\", \"Topic3\", \"Topic3\", \"Topic3\", \"Topic3\", \"Topic3\", \"Topic3\", \"Topic3\", \"Topic3\", \"Topic3\", \"Topic3\", \"Topic3\", \"Topic3\", \"Topic3\", \"Topic3\", \"Topic3\", \"Topic3\", \"Topic3\", \"Topic3\", \"Topic3\", \"Topic3\", \"Topic3\", \"Topic3\", \"Topic3\", \"Topic3\", \"Topic3\", \"Topic3\", \"Topic3\", \"Topic3\", \"Topic3\", \"Topic3\", \"Topic3\", \"Topic3\", \"Topic3\", \"Topic3\", \"Topic4\", \"Topic4\", \"Topic4\", \"Topic4\", \"Topic4\", \"Topic4\", \"Topic4\", \"Topic4\", \"Topic4\", \"Topic4\", \"Topic4\", \"Topic4\", \"Topic4\", \"Topic4\", \"Topic4\", \"Topic4\", \"Topic4\", \"Topic4\", \"Topic4\", \"Topic4\", \"Topic4\", \"Topic4\", \"Topic4\", \"Topic4\", \"Topic4\", \"Topic4\", \"Topic4\", \"Topic4\", \"Topic4\", \"Topic4\", \"Topic4\", \"Topic4\", \"Topic4\", \"Topic4\", \"Topic4\", \"Topic4\", \"Topic5\", \"Topic5\", \"Topic5\", \"Topic5\", \"Topic5\", \"Topic5\", \"Topic5\", \"Topic5\", \"Topic5\", \"Topic5\", \"Topic5\", \"Topic5\", \"Topic5\", \"Topic5\", \"Topic5\", \"Topic5\", \"Topic5\", \"Topic5\", \"Topic5\", \"Topic5\", \"Topic5\", \"Topic5\", \"Topic5\", \"Topic5\", \"Topic5\", \"Topic5\", \"Topic5\", \"Topic5\", \"Topic5\", \"Topic5\", \"Topic5\", \"Topic5\", \"Topic5\", \"Topic5\", \"Topic5\", \"Topic5\", \"Topic5\", \"Topic6\", \"Topic6\", \"Topic6\", \"Topic6\", \"Topic6\", \"Topic6\", \"Topic6\", \"Topic6\", \"Topic6\", \"Topic6\", \"Topic6\", \"Topic6\", \"Topic6\", \"Topic6\", \"Topic6\", \"Topic6\", \"Topic6\", \"Topic6\", \"Topic6\", \"Topic6\", \"Topic6\", \"Topic6\", \"Topic6\", \"Topic6\", \"Topic6\", \"Topic6\", \"Topic6\", \"Topic6\", \"Topic6\", \"Topic6\", \"Topic6\", \"Topic7\", \"Topic7\", \"Topic7\", \"Topic7\", \"Topic7\", \"Topic7\", \"Topic7\", \"Topic7\", \"Topic7\", \"Topic7\", \"Topic7\", \"Topic7\", \"Topic7\", \"Topic7\", \"Topic7\", \"Topic7\", \"Topic7\", \"Topic7\", \"Topic7\", \"Topic7\", \"Topic7\", \"Topic7\", \"Topic7\", \"Topic7\", \"Topic7\", \"Topic7\", \"Topic7\", \"Topic7\", \"Topic7\", \"Topic7\", \"Topic7\", \"Topic8\", \"Topic8\", \"Topic8\", \"Topic8\", \"Topic8\", \"Topic8\", \"Topic8\", \"Topic8\", \"Topic8\", \"Topic8\", \"Topic8\", \"Topic8\", \"Topic8\", \"Topic8\", \"Topic8\", \"Topic8\", \"Topic8\", \"Topic8\", \"Topic8\", \"Topic8\", \"Topic8\", \"Topic8\", \"Topic8\", \"Topic8\", \"Topic8\", \"Topic8\", \"Topic8\", \"Topic8\", \"Topic8\", \"Topic8\", \"Topic9\", \"Topic9\", \"Topic9\", \"Topic9\", \"Topic9\", \"Topic9\", \"Topic9\", \"Topic9\", \"Topic9\", \"Topic9\", \"Topic9\", \"Topic9\", \"Topic9\", \"Topic9\", \"Topic9\", \"Topic9\", \"Topic9\", \"Topic9\", \"Topic9\", \"Topic9\", \"Topic9\", \"Topic9\", \"Topic9\", \"Topic9\", \"Topic9\", \"Topic9\", \"Topic9\", \"Topic9\", \"Topic9\", \"Topic9\", \"Topic10\", \"Topic10\", \"Topic10\", \"Topic10\", \"Topic10\", \"Topic10\", \"Topic10\", \"Topic10\", \"Topic10\", \"Topic10\", \"Topic10\", \"Topic10\", \"Topic10\", \"Topic10\", \"Topic10\", \"Topic10\", \"Topic10\", \"Topic10\", \"Topic10\", \"Topic10\", \"Topic10\", \"Topic10\", \"Topic10\", \"Topic10\", \"Topic10\", \"Topic10\", \"Topic10\", \"Topic10\", \"Topic10\", \"Topic10\"], \"Freq\": [113826.0, 54083.0, 36807.0, 33972.0, 48250.0, 108449.0, 74029.0, 27934.0, 64987.0, 69165.0, 64290.0, 60984.0, 58386.0, 29778.0, 47070.0, 62076.0, 26183.0, 24537.0, 22739.0, 24215.0, 34161.0, 22975.0, 32798.0, 22243.0, 28795.0, 19051.0, 8689.0, 19762.0, 11079.0, 12617.0, 74028.0703125, 64289.4921875, 24820.8828125, 23665.427734375, 23397.1953125, 22330.345703125, 19192.642578125, 17282.1640625, 17257.212890625, 15349.1708984375, 13982.2509765625, 12213.482421875, 11068.5126953125, 10323.3017578125, 10046.806640625, 9445.8818359375, 8627.1142578125, 8621.2265625, 8463.50390625, 7978.11279296875, 7895.97119140625, 7877.486328125, 7601.85107421875, 7561.07080078125, 7511.1337890625, 7321.3125, 6910.296875, 6324.4521484375, 6008.408203125, 5893.0654296875, 13091.962890625, 13164.693359375, 23710.9140625, 54516.1953125, 90347.4609375, 27151.36328125, 23644.466796875, 34479.33203125, 11842.583984375, 9957.662109375, 10605.2548828125, 64985.93359375, 60983.1015625, 47068.8671875, 34160.8203125, 32797.73828125, 22218.236328125, 20928.681640625, 20930.71484375, 18782.96875, 17618.8125, 16536.88671875, 15298.267578125, 14915.0859375, 12348.3935546875, 12031.9130859375, 11803.3896484375, 11282.025390625, 10966.7919921875, 9905.5498046875, 9663.8603515625, 9284.6943359375, 8102.77783203125, 8085.5, 7643.033203125, 7218.61572265625, 6932.32080078125, 6688.48681640625, 6282.69482421875, 6234.55517578125, 6041.189453125, 67996.8671875, 24342.3515625, 11848.88671875, 15437.0634765625, 12599.0595703125, 12949.107421875, 12276.015625, 11529.71875, 24069.412109375, 10134.1982421875, 9793.4345703125, 24214.271484375, 22974.642578125, 22242.140625, 19761.515625, 16550.0, 13780.5068359375, 10992.4443359375, 9850.9287109375, 8995.5126953125, 7754.9912109375, 7624.2138671875, 7608.90185546875, 7598.939453125, 7343.77001953125, 7319.0537109375, 6786.39599609375, 6052.58056640625, 6007.005859375, 5514.02734375, 4433.68359375, 4363.1552734375, 4309.26318359375, 4067.873291015625, 3527.629638671875, 3359.653076171875, 3275.614990234375, 2908.769287109375, 2861.302490234375, 2808.810546875, 2798.267822265625, 110511.359375, 13797.5302734375, 22308.830078125, 13403.353515625, 9392.78125, 5734.1337890625, 18100.916015625, 6737.43896484375, 7046.3359375, 6043.53564453125, 48249.6640625, 26182.208984375, 24536.04296875, 22738.39453125, 19050.328125, 15529.75, 13565.42578125, 13262.771484375, 12344.697265625, 9615.2197265625, 9214.392578125, 8987.287109375, 8720.6474609375, 8707.541015625, 7983.66748046875, 5422.48876953125, 5007.29541015625, 4932.5400390625, 4850.04833984375, 4759.75830078125, 4137.7431640625, 3959.859619140625, 3903.906982421875, 3747.48291015625, 3711.25146484375, 3311.442138671875, 3107.05712890625, 2910.16162109375, 2792.6875, 2756.69384765625, 23906.533203125, 5461.8017578125, 6961.794921875, 7559.26904296875, 4514.23095703125, 4330.42138671875, 29777.7890625, 15177.3876953125, 13807.724609375, 12556.7431640625, 12061.6572265625, 11894.1328125, 11523.65625, 10331.4443359375, 10282.55859375, 10078.3486328125, 9580.2099609375, 7073.30615234375, 6983.40380859375, 6013.78955078125, 5857.77294921875, 5441.77490234375, 5334.29931640625, 5225.14013671875, 4966.1474609375, 4227.04541015625, 4201.736328125, 4107.203125, 3904.024658203125, 3889.0244140625, 3816.0166015625, 3707.145263671875, 3669.470458984375, 3612.992431640625, 3469.040771484375, 3465.005126953125, 7825.5986328125, 13612.76953125, 13502.2744140625, 10233.6591796875, 15808.1611328125, 5447.0908203125, 3965.205810546875, 12616.6044921875, 12343.779296875, 9006.150390625, 7182.53515625, 6980.32763671875, 6383.857421875, 5024.423828125, 4584.90234375, 4549.72021484375, 4437.49072265625, 3746.62109375, 3486.957275390625, 3436.775634765625, 3320.546875, 2827.84326171875, 2682.0380859375, 2633.285400390625, 2539.6845703125, 2534.089111328125, 2526.1455078125, 2401.92333984375, 2095.234619140625, 2093.009033203125, 2003.2603759765625, 1972.3443603515625, 1970.1888427734375, 1843.2569580078125, 1738.3524169921875, 1714.5389404296875, 1694.9884033203125, 2143.216796875, 54082.4296875, 36806.60546875, 7015.50244140625, 3951.52587890625, 3291.716796875, 2922.4609375, 2709.861083984375, 2016.1201171875, 1978.895263671875, 1935.145751953125, 1627.896484375, 1566.0054931640625, 1452.9232177734375, 1357.029052734375, 1246.641845703125, 979.0003662109375, 959.1466674804688, 873.7199096679688, 868.4951782226562, 842.2086791992188, 841.4166259765625, 801.1412963867188, 799.4647216796875, 789.1728515625, 786.9636840820312, 667.504638671875, 617.9552612304688, 595.9368896484375, 565.7379760742188, 565.00439453125, 964.9838256835938, 33971.5, 27933.470703125, 11077.849609375, 7266.03369140625, 4677.21484375, 4603.2548828125, 2938.123046875, 2478.314208984375, 2311.402099609375, 2239.510498046875, 2146.73828125, 1915.572998046875, 1549.5364990234375, 1512.378173828125, 1421.91064453125, 1262.1312255859375, 1118.42578125, 1100.0648193359375, 1553.0450439453125, 1038.3284912109375, 1015.5357055664062, 988.2855224609375, 985.6808471679688, 888.63134765625, 720.41552734375, 715.4524536132812, 712.7044067382812, 638.9067993164062, 625.3938598632812, 578.1815795898438, 8560.4052734375, 3610.517333984375, 2357.138671875, 1848.470458984375, 1738.67333984375, 1648.1790771484375, 1645.5806884765625, 1626.4736328125, 1576.3179931640625, 1544.68798828125, 1523.7080078125, 1416.257080078125, 1280.4117431640625, 1267.852783203125, 1248.2467041015625, 1197.9896240234375, 1132.783447265625, 1091.017333984375, 1056.22607421875, 900.5946655273438, 840.041015625, 836.4637451171875, 792.9854125976562, 704.51123046875, 690.0951538085938, 674.4686889648438, 651.8831176757812, 608.6033935546875, 607.1954956054688, 564.953369140625, 8688.3935546875, 2290.285888671875, 2167.321044921875, 2075.71923828125, 2017.89208984375, 1828.294677734375, 1378.8333740234375, 1249.1611328125, 1212.69775390625, 1185.2052001953125, 1120.199951171875, 944.6679077148438, 938.0672607421875, 808.5741577148438, 793.2920532226562, 769.3140869140625, 720.2623291015625, 684.0258178710938, 578.3193359375, 557.875732421875, 550.253173828125, 549.7838745117188, 530.0564575195312, 519.0313110351562, 515.2437133789062, 512.9150390625, 499.93341064453125, 483.33563232421875, 468.3422546386719, 448.90093994140625], \"Term\": [\"food\", \"burger\", \"fry\", \"breakfast\", \"wait\", \"good\", \"place\", \"egg\", \"get\", \"come\", \"great\", \"go\", \"order\", \"potato\", \"time\", \"service\", \"server\", \"table\", \"take\", \"price\", \"back\", \"pretty\", \"eat\", \"much\", \"well\", \"minute\", \"customer\", \"worth\", \"portion\", \"spot\", \"place\", \"great\", \"definitely\", \"delicious\", \"love\", \"amazing\", \"friendly\", \"menu\", \"always\", \"nice\", \"ever\", \"awesome\", \"recommend\", \"excellent\", \"chicken\", \"enjoy\", \"fast\", \"super\", \"attentive\", \"stop\", \"tasty\", \"perfect\", \"home\", \"overall\", \"pancake\", \"favorite\", \"quick\", \"vegas\", \"shake\", \"thank\", \"visit\", \"meal\", \"also\", \"service\", \"good\", \"really\", \"try\", \"order\", \"little\", \"staff\", \"make\", \"get\", \"go\", \"time\", \"back\", \"eat\", \"even\", \"want\", \"give\", \"look\", \"seat\", \"first\", \"waitress\", \"know\", \"way\", \"see\", \"day\", \"feel\", \"next\", \"still\", \"review\", \"french_toast\", \"decide\", \"plate\", \"free\", \"seem\", \"away\", \"last\", \"end\", \"half\", \"item\", \"come\", \"say\", \"right\", \"thing\", \"sure\", \"need\", \"friend\", \"find\", \"make\", \"never\", \"think\", \"price\", \"pretty\", \"much\", \"worth\", \"line\", \"lot\", \"expect\", \"many\", \"probably\", \"however\", \"different\", \"option\", \"better\", \"pay\", \"quality\", \"choice\", \"decent\", \"high\", \"far\", \"selection\", \"average\", \"veggie\", \"guess\", \"money\", \"dessert\", \"life\", \"duck\", \"disappointed\", \"expensive\", \"seriously\", \"food\", \"star\", \"well\", \"long\", \"bad\", \"usually\", \"good\", \"think\", \"taste\", \"really\", \"wait\", \"server\", \"table\", \"take\", \"minute\", \"ask\", \"check\", \"people\", \"busy\", \"name\", \"sit\", \"tell\", \"bring\", \"drink\", \"hour\", \"walk\", \"onion_ring\", \"party\", \"waiter\", \"arrive\", \"group\", \"hostess\", \"manager\", \"care\", \"show\", \"less\", \"guy\", \"front\", \"smile\", \"cold\", \"order\", \"work\", \"long\", \"service\", \"experience\", \"bad\", \"potato\", \"flavor\", \"pho\", \"top\", \"cheese\", \"dish\", \"cook\", \"season\", \"fresh\", \"steak\", \"sauce\", \"salty\", \"perfectly\", \"bread\", \"beef\", \"add\", \"warm\", \"sweet\", \"toast\", \"salt\", \"reason\", \"bun\", \"flavorful\", \"pork\", \"onion\", \"cut\", \"fruit\", \"spicy\", \"slice\", \"noodle\", \"hot\", \"side\", \"serve\", \"coffee\", \"taste\", \"meat\", \"bite\", \"spot\", \"muffin\", \"night\", \"morning\", \"open\", \"local\", \"late\", \"area\", \"tip\", \"choose\", \"face\", \"bar\", \"early\", \"cool\", \"list\", \"dining\", \"beer\", \"casino\", \"locate\", \"recommendation\", \"head\", \"efficient\", \"door\", \"other\", \"american\", \"old\", \"buy\", \"often\", \"set\", \"saturday_morning\", \"style\", \"burger\", \"fry\", \"truffle\", \"gordon_ramsay\", \"joint\", \"burgr\", \"medium\", \"bill\", \"ketchup\", \"wing\", \"glass\", \"gordon_ramsey\", \"newspaper\", \"patty\", \"milkshake\", \"ring\", \"ramsay\", \"pudding\", \"truffle_parmesan\", \"basically\", \"mister\", \"original\", \"truffle_aioli\", \"fix\", \"hell_kitchen\", \"park\", \"poor\", \"oreo_shake\", \"massive\", \"venture\", \"popper\", \"breakfast\", \"egg\", \"portion\", \"huge\", \"large\", \"omelet\", \"sausage\", \"bacon\", \"drive\", \"omelette\", \"size\", \"hit\", \"crowd\", \"generous\", \"scramble\", \"parking\", \"sweet_potato\", \"potatoe\", \"banana_muffin\", \"complaint\", \"dice\", \"delish\", \"flip\", \"basic\", \"mine\", \"scrambled_egg\", \"corned_beef\", \"vacation\", \"hollandaise_sauce\", \"drunk\", \"strip\", \"mushroom\", \"diner\", \"entire\", \"bottom\", \"traditional\", \"dog\", \"pass\", \"exceptional\", \"host\", \"everywhere\", \"hype\", \"hearty\", \"low\", \"normal\", \"car\", \"easily\", \"affordable\", \"club\", \"blow\", \"handful\", \"heart\", \"mexican\", \"serving\", \"mood\", \"imagine\", \"ihop\", \"somewhere\", \"plentiful\", \"woman\", \"customer\", \"crazy\", \"world\", \"cover\", \"pleasant\", \"simply\", \"typical\", \"normally\", \"value\", \"attitude\", \"question\", \"professional\", \"remind\", \"equally\", \"gross\", \"awhile\", \"sugar\", \"juice\", \"third\", \"apple\", \"whipped_cream\", \"box\", \"sadly\", \"negative\", \"consistently\", \"ruin\", \"ordinary\", \"pro\", \"frequently\", \"write_home\"], \"Total\": [113826.0, 54083.0, 36807.0, 33972.0, 48250.0, 108449.0, 74029.0, 27934.0, 64987.0, 69165.0, 64290.0, 60984.0, 58386.0, 29778.0, 47070.0, 62076.0, 26183.0, 24537.0, 22739.0, 24215.0, 34161.0, 22975.0, 32798.0, 22243.0, 28795.0, 19051.0, 8689.0, 19762.0, 11079.0, 12617.0, 74029.2265625, 64290.64453125, 24822.033203125, 23666.578125, 23398.345703125, 22331.49609375, 19193.79296875, 17283.314453125, 17258.36328125, 15350.3193359375, 13983.3994140625, 12214.630859375, 11069.6611328125, 10324.4501953125, 10047.955078125, 9447.0302734375, 8628.2626953125, 8622.375, 8464.65234375, 7979.26220703125, 7897.12060546875, 7878.6357421875, 7603.0009765625, 7562.22021484375, 7512.28369140625, 7322.4619140625, 6911.4462890625, 6325.6015625, 6009.55712890625, 5894.21533203125, 13114.66796875, 13279.36328125, 24480.658203125, 62076.48828125, 108449.3671875, 33244.1875, 31164.87109375, 58386.890625, 17387.716796875, 13306.9970703125, 34675.6875, 64987.0703125, 60984.23828125, 47070.00390625, 34161.95703125, 32798.875, 22219.37109375, 20929.81640625, 20931.849609375, 18784.103515625, 17619.947265625, 16538.021484375, 15299.4013671875, 14916.2197265625, 12349.52734375, 12033.046875, 11804.5234375, 11283.1591796875, 10967.92578125, 9906.68359375, 9664.994140625, 9285.828125, 8103.91259765625, 8086.634765625, 7644.16796875, 7219.75048828125, 6933.45556640625, 6689.62158203125, 6283.82958984375, 6235.68994140625, 6042.32421875, 69165.09375, 24564.3515625, 11982.1533203125, 15759.6640625, 12976.30859375, 14104.83203125, 13345.3642578125, 12463.7626953125, 34675.6875, 11635.4189453125, 16531.845703125, 24215.376953125, 22975.748046875, 22243.24609375, 19762.62109375, 16551.10546875, 13781.6103515625, 10993.5478515625, 9852.0322265625, 8996.6162109375, 7756.095703125, 7625.318359375, 7610.00634765625, 7600.0439453125, 7344.8740234375, 7320.158203125, 6787.50048828125, 6053.68505859375, 6008.1103515625, 5515.1318359375, 4434.7880859375, 4364.259765625, 4310.36767578125, 4068.977783203125, 3528.733642578125, 3360.7568359375, 3276.71923828125, 2909.873046875, 2862.40673828125, 2809.91455078125, 2799.3720703125, 113826.8359375, 14847.5693359375, 28795.478515625, 20366.126953125, 13724.1787109375, 7286.7177734375, 108449.3671875, 16531.845703125, 22855.46484375, 33244.1875, 48250.80078125, 26183.349609375, 24537.18359375, 22739.53515625, 19051.46875, 15530.888671875, 13566.564453125, 13263.91015625, 12345.8359375, 9616.3583984375, 9215.53125, 8988.42578125, 8721.7861328125, 8708.6796875, 7984.9833984375, 5423.6279296875, 5008.43408203125, 4933.67919921875, 4851.18701171875, 4760.8974609375, 4138.88232421875, 3960.99853515625, 3905.0458984375, 3748.6220703125, 3712.390625, 3312.581298828125, 3108.1962890625, 2911.300537109375, 2793.82666015625, 2757.832763671875, 58386.890625, 9101.5458984375, 20366.126953125, 62076.48828125, 12536.0576171875, 13724.1787109375, 29778.919921875, 15178.5166015625, 13808.853515625, 12557.8720703125, 12062.7861328125, 11895.26171875, 11524.78515625, 10332.5732421875, 10283.6875, 10079.4775390625, 9581.3388671875, 7074.43505859375, 6984.53271484375, 6014.91845703125, 5858.90185546875, 5442.90380859375, 5335.42822265625, 5226.26904296875, 4967.2763671875, 4228.17431640625, 4202.865234375, 4108.33203125, 3905.153564453125, 3890.153076171875, 3817.1455078125, 3708.274169921875, 3670.599609375, 3614.12109375, 3470.169677734375, 3466.133544921875, 7898.14990234375, 13927.353515625, 13833.46484375, 12783.46484375, 22855.46484375, 8805.15234375, 5027.083984375, 12617.732421875, 12344.9248046875, 9007.2783203125, 7183.6640625, 6981.4560546875, 6384.986328125, 5025.552734375, 4586.03125, 4550.84912109375, 4438.61962890625, 3747.74951171875, 3488.08544921875, 3437.904052734375, 3321.675048828125, 2828.9716796875, 2683.16650390625, 2634.41357421875, 2540.81298828125, 2535.217529296875, 2527.27392578125, 2403.0517578125, 2096.363037109375, 2094.137451171875, 2004.38916015625, 1973.4730224609375, 1971.317626953125, 1844.3857421875, 1739.481201171875, 1715.6676025390625, 1696.117431640625, 4227.66748046875, 54083.5859375, 36807.76171875, 7016.65966796875, 3952.682373046875, 3292.873779296875, 2923.617431640625, 2711.01806640625, 2017.2772216796875, 1980.0521240234375, 1936.3026123046875, 1629.053466796875, 1567.162353515625, 1454.0908203125, 1358.18603515625, 1247.7987060546875, 980.1572265625, 960.303466796875, 874.876708984375, 869.6519775390625, 843.3656616210938, 842.576171875, 802.2984619140625, 800.62158203125, 790.3299560546875, 788.1204833984375, 668.6619873046875, 619.1121826171875, 597.109375, 566.8952026367188, 566.1619262695312, 973.3593139648438, 33972.69140625, 27934.662109375, 11079.041015625, 7267.22509765625, 4678.40625, 4604.44677734375, 2939.314208984375, 2479.505126953125, 2312.593017578125, 2240.70166015625, 2147.92919921875, 1916.76416015625, 1550.7276611328125, 1513.5693359375, 1423.1019287109375, 1263.3223876953125, 1119.6168212890625, 1101.2562255859375, 1554.815673828125, 1039.5196533203125, 1016.7279663085938, 989.4766235351562, 986.8721313476562, 889.8226928710938, 721.6065673828125, 716.6437377929688, 713.895751953125, 640.0979614257812, 626.5853271484375, 579.37255859375, 8561.5361328125, 3611.648193359375, 2358.26953125, 1849.601318359375, 1739.80419921875, 1649.31005859375, 1646.7115478515625, 1627.6044921875, 1577.4488525390625, 1545.81884765625, 1524.8389892578125, 1417.387939453125, 1281.5428466796875, 1268.983642578125, 1249.3775634765625, 1199.1204833984375, 1133.914306640625, 1092.148193359375, 1057.3568115234375, 901.7254638671875, 841.1723022460938, 837.5946044921875, 794.1165161132812, 705.6421508789062, 691.2259521484375, 675.5994873046875, 653.0143432617188, 609.7343139648438, 608.3264770507812, 566.0841674804688, 8689.52734375, 2291.420166015625, 2168.455322265625, 2076.853759765625, 2019.0264892578125, 1829.428955078125, 1379.9676513671875, 1250.29541015625, 1213.83203125, 1186.33935546875, 1121.334228515625, 945.8021240234375, 939.2015380859375, 809.7084350585938, 794.42626953125, 770.4483032226562, 721.3965454101562, 685.1600952148438, 579.4535522460938, 559.010009765625, 551.3875122070312, 550.918212890625, 531.190673828125, 520.1654663085938, 516.3779907226562, 514.0491943359375, 501.06768798828125, 484.4698181152344, 469.4765319824219, 450.0352783203125], \"loglift\": [30.0, 29.0, 28.0, 27.0, 26.0, 25.0, 24.0, 23.0, 22.0, 21.0, 20.0, 19.0, 18.0, 17.0, 16.0, 15.0, 14.0, 13.0, 12.0, 11.0, 10.0, 9.0, 8.0, 7.0, 6.0, 5.0, 4.0, 3.0, 2.0, 1.0, 1.363700032234192, 1.363700032234192, 1.363700032234192, 1.363700032234192, 1.363700032234192, 1.363700032234192, 1.363700032234192, 1.363700032234192, 1.363700032234192, 1.3636000156402588, 1.3636000156402588, 1.3636000156402588, 1.3636000156402588, 1.3636000156402588, 1.3636000156402588, 1.3636000156402588, 1.3636000156402588, 1.3636000156402588, 1.3636000156402588, 1.3636000156402588, 1.3636000156402588, 1.3636000156402588, 1.3636000156402588, 1.3636000156402588, 1.3636000156402588, 1.3636000156402588, 1.3636000156402588, 1.3634999990463257, 1.3634999990463257, 1.3634999990463257, 1.3619999885559082, 1.3551000356674194, 1.3317999839782715, 1.2338999509811401, 1.1811000108718872, 1.1612999439239502, 1.0875999927520752, 0.8370000123977661, 0.9797000288963318, 1.073799967765808, 0.17900000512599945, 1.3770999908447266, 1.3770999908447266, 1.3770999908447266, 1.3770999908447266, 1.3770999908447266, 1.3770999908447266, 1.3770999908447266, 1.3770999908447266, 1.3770999908447266, 1.3770999908447266, 1.3770999908447266, 1.3770999908447266, 1.3770999908447266, 1.3769999742507935, 1.3769999742507935, 1.3769999742507935, 1.3769999742507935, 1.3769999742507935, 1.3769999742507935, 1.3769999742507935, 1.3769999742507935, 1.3769999742507935, 1.3769999742507935, 1.3769999742507935, 1.3769999742507935, 1.3769999742507935, 1.3769999742507935, 1.3769999742507935, 1.3769999742507935, 1.3768999576568604, 1.3601000308990479, 1.3681000471115112, 1.3660000562667847, 1.3565000295639038, 1.347599983215332, 1.291599988937378, 1.2935999631881714, 1.2992000579833984, 1.0119999647140503, 1.2389999628067017, 0.853600025177002, 1.9782999753952026, 1.9782999753952026, 1.9782999753952026, 1.9782999753952026, 1.9782999753952026, 1.9782999753952026, 1.9781999588012695, 1.9781999588012695, 1.9781999588012695, 1.9781999588012695, 1.9781999588012695, 1.9781999588012695, 1.9781999588012695, 1.9781999588012695, 1.9781999588012695, 1.9781999588012695, 1.9781999588012695, 1.9781999588012695, 1.9780999422073364, 1.9780999422073364, 1.9780999422073364, 1.9780999422073364, 1.9780999422073364, 1.9780000448226929, 1.9780000448226929, 1.9780000448226929, 1.9780000448226929, 1.9779000282287598, 1.9779000282287598, 1.9779000282287598, 1.948799967765808, 1.9049999713897705, 1.723099946975708, 1.559999942779541, 1.5990999937057495, 1.738700032234192, 0.18799999356269836, 1.0807000398635864, 0.8016999959945679, 0.2734000086784363, 2.22189998626709, 2.2218000888824463, 2.2218000888824463, 2.2218000888824463, 2.2218000888824463, 2.2218000888824463, 2.2218000888824463, 2.2218000888824463, 2.2218000888824463, 2.2218000888824463, 2.2218000888824463, 2.2218000888824463, 2.2218000888824463, 2.2218000888824463, 2.2216999530792236, 2.2216999530792236, 2.2216999530792236, 2.2216999530792236, 2.22160005569458, 2.22160005569458, 2.22160005569458, 2.22160005569458, 2.22160005569458, 2.22160005569458, 2.22160005569458, 2.2214999198913574, 2.2214999198913574, 2.2214999198913574, 2.2214999198913574, 2.2214999198913574, 1.3288999795913696, 1.7111999988555908, 1.1483999490737915, 0.11630000174045563, 1.2005000114440918, 1.0684000253677368, 2.2535998821258545, 2.2535998821258545, 2.2535998821258545, 2.253499984741211, 2.253499984741211, 2.253499984741211, 2.253499984741211, 2.253499984741211, 2.253499984741211, 2.253499984741211, 2.253499984741211, 2.253499984741211, 2.253499984741211, 2.2534000873565674, 2.2534000873565674, 2.2534000873565674, 2.2534000873565674, 2.2534000873565674, 2.2534000873565674, 2.2534000873565674, 2.2534000873565674, 2.2534000873565674, 2.2532999515533447, 2.2532999515533447, 2.2532999515533447, 2.2532999515533447, 2.2532999515533447, 2.2532999515533447, 2.2532999515533447, 2.2532999515533447, 2.2444000244140625, 2.230799913406372, 2.2293999195098877, 2.0311999320983887, 1.8849999904632568, 1.7733999490737915, 2.016400098800659, 3.023699998855591, 3.023699998855591, 3.023699998855591, 3.0236001014709473, 3.0236001014709473, 3.0236001014709473, 3.0236001014709473, 3.0236001014709473, 3.0236001014709473, 3.0234999656677246, 3.0234999656677246, 3.0234999656677246, 3.0234999656677246, 3.0234999656677246, 3.023400068283081, 3.023400068283081, 3.023400068283081, 3.023400068283081, 3.023400068283081, 3.023400068283081, 3.0232999324798584, 3.0232999324798584, 3.0232999324798584, 3.023200035095215, 3.023200035095215, 3.023200035095215, 3.023200035095215, 3.023200035095215, 3.023099899291992, 3.023099899291992, 2.3445000648498535, 3.369499921798706, 3.3694000244140625, 3.36929988861084, 3.3691999912261963, 3.3691000938415527, 3.3691000938415527, 3.36899995803833, 3.3689000606536865, 3.3689000606536865, 3.3689000606536865, 3.368799924850464, 3.3687000274658203, 3.3687000274658203, 3.3685998916625977, 3.368499994277954, 3.368299961090088, 3.368299961090088, 3.3680999279022217, 3.3680999279022217, 3.3680999279022217, 3.3680999279022217, 3.368000030517578, 3.368000030517578, 3.368000030517578, 3.368000030517578, 3.3677000999450684, 3.3675999641418457, 3.367500066757202, 3.3673999309539795, 3.3673999309539795, 3.36080002784729, 3.4930999279022217, 3.4930999279022217, 3.493000030517578, 3.493000030517578, 3.4928998947143555, 3.4928998947143555, 3.4927000999450684, 3.4925999641418457, 3.4925999641418457, 3.4925999641418457, 3.4925999641418457, 3.492500066757202, 3.4923999309539795, 3.492300033569336, 3.492300033569336, 3.4921998977661133, 3.4921000003814697, 3.492000102996826, 3.492000102996826, 3.492000102996826, 3.492000102996826, 3.4918999671936035, 3.4918999671936035, 3.49180006980896, 3.491499900817871, 3.491499900817871, 3.491499900817871, 3.491300106048584, 3.4911999702453613, 3.4911000728607178, 4.124000072479248, 4.123799800872803, 4.123600006103516, 4.123499870300293, 4.123499870300293, 4.1234002113342285, 4.1234002113342285, 4.1234002113342285, 4.1234002113342285, 4.1234002113342285, 4.1234002113342285, 4.123300075531006, 4.123199939727783, 4.123199939727783, 4.123199939727783, 4.123199939727783, 4.1230998039245605, 4.1230998039245605, 4.123000144958496, 4.122900009155273, 4.122799873352051, 4.122799873352051, 4.122700214385986, 4.122499942779541, 4.122499942779541, 4.122399806976318, 4.122399806976318, 4.122300148010254, 4.122300148010254, 4.122099876403809, 4.540599822998047, 4.540299892425537, 4.540200233459473, 4.540200233459473, 4.540200233459473, 4.540200233459473, 4.539899826049805, 4.539899826049805, 4.53980016708374, 4.53980016708374, 4.53980016708374, 4.539599895477295, 4.539599895477295, 4.539400100708008, 4.539299964904785, 4.539299964904785, 4.5391998291015625, 4.539100170135498, 4.53879976272583, 4.538700103759766, 4.538700103759766, 4.538700103759766, 4.538599967956543, 4.538599967956543, 4.538599967956543, 4.538599967956543, 4.53849983215332, 4.538400173187256, 4.538400173187256, 4.5381999015808105], \"logprob\": [30.0, 29.0, 28.0, 27.0, 26.0, 25.0, 24.0, 23.0, 22.0, 21.0, 20.0, 19.0, 18.0, 17.0, 16.0, 15.0, 14.0, 13.0, 12.0, 11.0, 10.0, 9.0, 8.0, 7.0, 6.0, 5.0, 4.0, 3.0, 2.0, 1.0, -2.8229000568389893, -2.9639999866485596, -3.9156999588012695, -3.963399887084961, -3.9748001098632812, -4.021399974822998, -4.172900199890137, -4.277699947357178, -4.279200077056885, -4.396299839019775, -4.48960018157959, -4.624800205230713, -4.723299980163574, -4.793000221252441, -4.820099830627441, -4.881800174713135, -4.972499847412109, -4.973199844360352, -4.991600036621094, -5.0507001876831055, -5.060999870300293, -5.063399791717529, -5.098999977111816, -5.104400157928467, -5.111000061035156, -5.136600017547607, -5.194399833679199, -5.2829999923706055, -5.334199905395508, -5.353600025177002, -4.5553998947143555, -4.549799919128418, -3.961400032043457, -3.1289000511169434, -2.623699903488159, -3.8259999752044678, -3.9642999172210693, -3.5869998931884766, -4.655700206756592, -4.828999996185303, -4.765999794006348, -2.9398000240325928, -3.0034000873565674, -3.262399911880493, -3.582900047302246, -3.6236000061035156, -4.0131001472473145, -4.072800159454346, -4.072800159454346, -4.181000232696533, -4.244999885559082, -4.3084001541137695, -4.386199951171875, -4.411600112915039, -4.600399971008301, -4.626399993896484, -4.645599842071533, -4.690800189971924, -4.719099998474121, -4.820899963378906, -4.845600128173828, -4.8856000900268555, -5.0218000411987305, -5.023900032043457, -5.0802001953125, -5.13730001449585, -5.177800178527832, -5.213600158691406, -5.276199817657471, -5.283899784088135, -5.315400123596191, -2.8945000171661377, -3.921799898147583, -4.64169979095459, -4.377200126647949, -4.5802998542785645, -4.5528998374938965, -4.606299877166748, -4.669000148773193, -3.933000087738037, -4.798099994659424, -4.832300186157227, -3.3257999420166016, -3.3784000873565674, -3.410799980163574, -3.5290000438690186, -3.706399917602539, -3.8894999027252197, -4.115600109100342, -4.225200176239014, -4.315999984741211, -4.464399814605713, -4.481400012969971, -4.483500003814697, -4.484799861907959, -4.518899917602539, -4.522299766540527, -4.597899913787842, -4.712299823760986, -4.719799995422363, -4.805500030517578, -5.023499965667725, -5.039599895477295, -5.052000045776367, -5.1097002029418945, -5.252099990844727, -5.300899982452393, -5.326300144195557, -5.445000171661377, -5.46150016784668, -5.480000019073486, -5.483799934387207, -1.8077000379562378, -3.8882999420166016, -3.4077999591827393, -3.91729998588562, -4.272799968719482, -4.766300201416016, -3.61680006980896, -4.605100154876709, -4.560299873352051, -4.713799953460693, -2.3928000926971436, -3.0041000843048096, -3.0690999031066895, -3.14520001411438, -3.3220999240875244, -3.5264999866485596, -3.6617000102996826, -3.684299945831299, -3.75600004196167, -4.005899906158447, -4.048500061035156, -4.073400020599365, -4.103499889373779, -4.105000019073486, -4.191800117492676, -4.578700065612793, -4.658299922943115, -4.673399925231934, -4.690199851989746, -4.709000110626221, -4.849100112915039, -4.89300012588501, -4.907199859619141, -4.9481000900268555, -4.957900047302246, -5.071800231933594, -5.135499954223633, -5.201000213623047, -5.242199897766113, -5.255199909210205, -3.095099925994873, -4.571400165557861, -4.328800201416016, -4.246399879455566, -4.76200008392334, -4.803599834442139, -2.8436999320983887, -3.517699956893921, -3.6122000217437744, -3.707200050354004, -3.7474000453948975, -3.761399984359741, -3.793100118637085, -3.9022998809814453, -3.9070000648498535, -3.9270999431610107, -3.977799892425537, -4.281099796295166, -4.293900012969971, -4.443399906158447, -4.469699859619141, -4.543399810791016, -4.563300132751465, -4.584000110626221, -4.634799957275391, -4.796000003814697, -4.802000045776367, -4.824699878692627, -4.875500202178955, -4.879300117492676, -4.8983001708984375, -4.927199840545654, -4.937399864196777, -4.952899932861328, -4.993599891662598, -4.994800090789795, -4.180099964141846, -3.626499891281128, -3.6345999240875244, -3.911799907684326, -3.476900100708008, -4.542399883270264, -4.859899997711182, -2.932300090789795, -2.954200029373169, -3.269399881362915, -3.495699882507324, -3.524199962615967, -3.6135001182556152, -3.8529999256134033, -3.944499969482422, -3.952199935913086, -3.9772000312805176, -4.146500110626221, -4.218299865722656, -4.232800006866455, -4.267199993133545, -4.427800178527832, -4.4807000160217285, -4.499100208282471, -4.535299777984619, -4.537499904632568, -4.540599822998047, -4.591000080108643, -4.72760009765625, -4.728700160980225, -4.772500038146973, -4.788099765777588, -4.7891998291015625, -4.855800151824951, -4.914400100708008, -4.928199768066406, -4.939599990844727, -4.704999923706055, -1.131100058555603, -1.5160000324249268, -3.1735000610351562, -3.747499942779541, -3.9302000999450684, -4.049200057983398, -4.12470006942749, -4.420499801635742, -4.4390997886657715, -4.46150016784668, -4.634300231933594, -4.673099994659424, -4.7480998039245605, -4.816299915313721, -4.901199817657471, -5.142899990081787, -5.163300037384033, -5.2565999031066895, -5.262599945068359, -5.293399810791016, -5.294300079345703, -5.343400001525879, -5.345399856567383, -5.358399868011475, -5.361199855804443, -5.5258002281188965, -5.603000164031982, -5.6392998695373535, -5.691299915313721, -5.692599773406982, -5.157299995422363, -1.472499966621399, -1.6682000160217285, -2.5929999351501465, -3.0148000717163086, -3.4553000926971436, -3.4711999893188477, -3.9202001094818115, -4.090400218963623, -4.160099983215332, -4.191699981689453, -4.234000205993652, -4.3480000495910645, -4.559999942779541, -4.5843000411987305, -4.645999908447266, -4.765200138092041, -4.886099815368652, -4.902599811553955, -4.557799816131592, -4.960400104522705, -4.982600212097168, -5.009799957275391, -5.012400150299072, -5.116099834442139, -5.325900077819824, -5.332799911499023, -5.336699962615967, -5.446000099182129, -5.467400074005127, -5.54580020904541, -2.2197999954223633, -3.0831000804901123, -3.509500026702881, -3.7525999546051025, -3.8138999938964844, -3.867300033569336, -3.8689000606536865, -3.8805999755859375, -3.911900043487549, -3.9321999549865723, -3.9458000659942627, -4.019000053405762, -4.119800090789795, -4.129700183868408, -4.145199775695801, -4.186299800872803, -4.242300033569336, -4.279900074005127, -4.312300205230713, -4.471700191497803, -4.541299819946289, -4.545599937438965, -4.598899841308594, -4.717199802398682, -4.7378997802734375, -4.760799884796143, -4.794899940490723, -4.86359977722168, -4.865900039672852, -4.938000202178955, -1.7883000373840332, -3.1217000484466553, -3.176800012588501, -3.2200000286102295, -3.248300075531006, -3.3469998836517334, -3.6291000843048096, -3.7279000282287598, -3.757499933242798, -3.780400037765503, -3.8368000984191895, -4.007299900054932, -4.0142998695373535, -4.162799835205078, -4.1819000244140625, -4.212600231170654, -4.278500080108643, -4.330100059509277, -4.498000144958496, -4.533999919891357, -4.547699928283691, -4.548600196838379, -4.585100173950195, -4.606100082397461, -4.613500118255615, -4.618000030517578, -4.643599987030029, -4.6774001121521, -4.708899974822998, -4.751299858093262]}, \"token.table\": {\"Topic\": [5, 9, 1, 3, 5, 1, 1, 6, 10, 6, 4, 4, 1, 10, 3, 2, 1, 10, 2, 8, 3, 4, 8, 6, 8, 7, 5, 6, 3, 7, 1, 5, 9, 9, 10, 5, 8, 4, 5, 7, 7, 4, 6, 9, 4, 6, 4, 5, 1, 3, 6, 9, 4, 5, 4, 1, 2, 8, 10, 5, 6, 8, 10, 10, 8, 10, 5, 2, 3, 2, 1, 1, 8, 3, 8, 3, 9, 6, 3, 5, 9, 6, 4, 8, 8, 3, 6, 9, 2, 6, 8, 2, 1, 9, 10, 2, 1, 9, 1, 9, 3, 3, 1, 4, 6, 3, 1, 1, 2, 2, 6, 2, 7, 5, 5, 8, 1, 3, 4, 2, 2, 10, 5, 1, 2, 1, 4, 5, 7, 8, 2, 2, 7, 2, 1, 3, 7, 7, 1, 10, 4, 3, 4, 2, 9, 6, 9, 9, 7, 3, 8, 8, 1, 9, 4, 1, 5, 4, 3, 8, 9, 9, 9, 2, 7, 10, 7, 2, 8, 2, 6, 4, 3, 3, 6, 1, 3, 5, 6, 6, 3, 4, 2, 3, 1, 9, 1, 2, 4, 3, 7, 1, 2, 3, 5, 7, 1, 9, 7, 8, 4, 7, 3, 9, 6, 3, 6, 9, 4, 1, 2, 4, 10, 2, 4, 7, 2, 1, 6, 5, 9, 10, 6, 6, 8, 8, 5, 4, 6, 3, 1, 4, 10, 7, 7, 6, 1, 1, 7, 8, 4, 9, 7, 3, 4, 1, 5, 5, 1, 2, 10, 9, 7, 1, 2, 3, 4, 7, 5, 8, 5, 8, 3, 3, 10, 3, 10, 7, 3, 10, 1, 7, 1, 2, 3, 5, 1, 6, 10, 2, 1, 2, 7, 10, 10, 5, 5, 6, 5, 8, 2, 4, 8, 8, 5, 2, 2, 2, 3, 3, 2, 5, 4, 1, 4, 9, 6, 1, 4, 1, 5, 10, 4, 8, 5, 4, 9, 5, 6, 1, 4, 2, 3, 5, 2, 1, 9, 1, 6, 10, 1, 1, 2, 5, 8, 4, 4, 3, 5, 1, 4, 1, 2, 3, 2, 3, 10, 2, 6, 5, 5, 9, 7, 7, 7, 1, 2, 3, 10, 2, 3, 8, 10, 1, 3, 7, 1, 2, 4, 4, 2, 4, 2, 5, 2, 1, 3, 10, 7, 9, 2, 4, 10, 3, 10], \"Freq\": [0.9998339414596558, 0.9989486932754517, 0.9685605764389038, 0.028757397085428238, 0.0026551573537290096, 0.9999210238456726, 0.9999330043792725, 0.9992535710334778, 0.9981932044029236, 0.9997751116752625, 0.9998114705085754, 0.9999427795410156, 0.9999229311943054, 0.9988710284233093, 0.9997113347053528, 0.9997900724411011, 0.9998664855957031, 0.9981201887130737, 0.9999719858169556, 0.9993929862976074, 0.6844125390052795, 0.3155015707015991, 0.9988322257995605, 0.9996888041496277, 0.9990754127502441, 0.998380720615387, 0.9998460412025452, 0.9994634389877319, 0.9998626112937927, 0.9993668794631958, 0.21105675399303436, 0.7887276411056519, 0.9991954565048218, 0.9995377659797668, 0.9983332753181458, 0.9998472929000854, 0.9999796748161316, 0.9999098777770996, 0.9996757507324219, 0.9999706745147705, 0.9994467496871948, 0.9999322891235352, 0.9992486834526062, 0.9990655779838562, 0.9995672702789307, 0.9996800422668457, 0.9998846650123596, 0.9999348521232605, 0.9999049305915833, 0.9997789263725281, 0.9996351003646851, 0.9987167716026306, 0.1993982046842575, 0.8005654215812683, 0.9996980428695679, 0.016872672364115715, 0.9831115007400513, 0.9985381364822388, 0.997331440448761, 0.9999318718910217, 0.9997967481613159, 0.9987452626228333, 0.9995889067649841, 0.9993802309036255, 0.9995307326316833, 0.9998242259025574, 0.9996563792228699, 0.9998709559440613, 0.9998868107795715, 0.9998874068260193, 0.9999583959579468, 0.9999333024024963, 0.9985076785087585, 0.9997748136520386, 0.999284029006958, 0.9998270869255066, 0.9994616508483887, 0.9995652437210083, 0.9995085597038269, 0.9998939037322998, 0.9995679259300232, 0.9994568228721619, 0.999921977519989, 0.9993111491203308, 0.9976309537887573, 0.9996999502182007, 0.999737024307251, 0.9991936683654785, 0.9999732971191406, 0.99934983253479, 0.9999405145645142, 0.9998679757118225, 0.999890923500061, 0.9991342425346375, 0.999125063419342, 0.9999383091926575, 0.9998999238014221, 0.9994497895240784, 0.9998595118522644, 0.9990814924240112, 0.9998592138290405, 0.9996744990348816, 0.6398343443870544, 0.3600813150405884, 0.9998000264167786, 0.9997947812080383, 0.9998536705970764, 0.9998003244400024, 0.9998972415924072, 0.9250817894935608, 0.07485701143741608, 0.9999382495880127, 0.9983172416687012, 0.9999001026153564, 0.9997045993804932, 0.9991162419319153, 0.029008977115154266, 0.9708694815635681, 0.00011420856753829867, 0.9998472332954407, 0.999910831451416, 0.9968549609184265, 0.999933123588562, 0.08002778887748718, 0.9198699593544006, 0.9999586939811707, 0.9995532631874084, 0.9995642304420471, 0.9999793171882629, 0.9989631772041321, 0.999983549118042, 0.999959409236908, 0.9993533492088318, 0.9999796748161316, 0.833079993724823, 0.1669073849916458, 0.9998273849487305, 0.999258279800415, 0.9999744296073914, 0.9982046484947205, 0.9997867941856384, 0.9997596740722656, 0.9996151328086853, 0.9998893737792969, 0.9986063241958618, 0.9995623230934143, 0.998096227645874, 0.9987961053848267, 0.9985783100128174, 0.9998151659965515, 0.9996013045310974, 0.9974699020385742, 0.9998683333396912, 0.9994702935218811, 0.9997479319572449, 0.00911605916917324, 0.9908649325370789, 0.999876856803894, 0.9998587369918823, 0.9998314380645752, 0.9990207552909851, 0.9984467029571533, 0.9976325035095215, 0.9997808337211609, 0.99973464012146, 0.9983068108558655, 0.9994686245918274, 0.9999182224273682, 0.9996994137763977, 0.9997575879096985, 0.9996910095214844, 0.9995226263999939, 0.9997804760932922, 0.9999331831932068, 0.9996564984321594, 0.6811130046844482, 0.1921471357345581, 0.12669864296913147, 0.9998455047607422, 0.9995197653770447, 0.6581025719642639, 0.3418421149253845, 0.9999412298202515, 0.9999557137489319, 0.9999424815177917, 0.999224841594696, 0.3058338761329651, 0.6941174268722534, 0.9997321963310242, 0.9998952150344849, 0.9984208941459656, 0.9913879036903381, 0.008584748953580856, 0.38125404715538025, 0.6186150908470154, 0.999624490737915, 0.9999239444732666, 0.9985939860343933, 0.9993599057197571, 0.9977736473083496, 0.9999229311943054, 0.9981293678283691, 0.9997920989990234, 0.9982264041900635, 0.9999075531959534, 0.9999439716339111, 0.9999250769615173, 0.9998205304145813, 0.9998587369918823, 0.013895947486162186, 0.9180541634559631, 0.06799088418483734, 0.9977594017982483, 0.8709613084793091, 0.12891671061515808, 0.9992498159408569, 0.999915599822998, 0.9999140501022339, 0.9998580813407898, 0.9996729493141174, 0.9988973736763, 0.9989638924598694, 0.9991484880447388, 0.9993315935134888, 0.9996857643127441, 0.9996868371963501, 0.9996998906135559, 0.999713659286499, 0.9997914433479309, 0.9998677372932434, 0.5905264019966125, 0.40945833921432495, 0.9978691935539246, 0.9981420636177063, 0.9983815550804138, 0.9993069171905518, 0.999838650226593, 0.999829113483429, 0.9990099668502808, 0.9989532232284546, 0.9998623132705688, 0.9990141987800598, 0.9991267323493958, 0.9998810291290283, 0.9999313950538635, 0.9997923970222473, 0.999780535697937, 0.9999381899833679, 0.9999834299087524, 0.9999215006828308, 0.9994915723800659, 0.9978194832801819, 0.9982035756111145, 0.0010273698717355728, 0.0020547397434711456, 0.0020547397434711456, 0.0030821096152067184, 0.9914118647575378, 0.999703586101532, 0.999906063079834, 0.9999691247940063, 0.9988592863082886, 0.9999674558639526, 0.9999431371688843, 0.9969661235809326, 0.9999315142631531, 0.999151885509491, 0.9989979267120361, 0.9998417496681213, 0.9988101124763489, 0.9997907280921936, 0.99864262342453, 0.8167142271995544, 0.0014438614016398787, 0.18180622160434723, 0.9997941255569458, 0.9999402761459351, 0.9994959235191345, 0.9987207055091858, 0.9998971223831177, 0.01101638376712799, 0.988887369632721, 0.9988193511962891, 0.9979589581489563, 0.9977585077285767, 0.9997222423553467, 0.9997971653938293, 0.9993411898612976, 0.9998602867126465, 0.9995529055595398, 0.9909482002258301, 0.00899677723646164, 0.9992256760597229, 0.9977063536643982, 0.9998477101325989, 0.9999462366104126, 0.9999129772186279, 0.9998960494995117, 0.9998223185539246, 0.999509871006012, 0.023855194449424744, 0.976038932800293, 0.9999484419822693, 0.8782069087028503, 0.12176913022994995, 0.9990899562835693, 0.9996109008789062, 0.9997408986091614, 0.9996253848075867, 0.02254556119441986, 0.9774290323257446, 0.9992188811302185, 0.9998338222503662, 0.9995673894882202, 0.9996629357337952, 0.999704122543335, 0.9987956881523132, 0.9996898174285889, 0.9999419450759888, 0.7483280897140503, 0.25159695744514465, 0.07065129280090332, 0.9293103814125061, 0.9998534321784973, 0.9999309778213501, 0.9998418092727661, 0.9998205900192261, 0.49270668625831604, 0.5068988800048828, 0.9980641007423401, 0.9998405575752258, 0.02897588349878788, 0.9709232449531555, 0.9997571706771851, 0.9985558986663818, 0.9999517798423767, 0.9999324679374695, 0.3082851469516754, 0.6916507482528687, 0.9998580813407898, 0.9998413920402527, 0.9997938275337219, 0.9795259833335876, 0.02043190784752369, 0.5923718214035034, 0.4075165092945099, 0.9974915385246277, 0.9999786615371704, 0.999813437461853, 0.9997430443763733, 0.9999305605888367, 0.9992057085037231, 0.9999060034751892, 0.9979745745658875, 0.9981003999710083, 0.7586747407913208, 0.13152629137039185, 0.10973894596099854, 0.9992988109588623, 0.21299026906490326, 0.7869112491607666, 0.9982846975326538, 0.999314546585083, 0.9997467994689941, 0.9996827244758606, 0.9979476928710938, 0.9982715845108032, 0.0016775110270828009, 0.9999834299087524, 0.999755322933197, 0.9999083876609802, 0.9996998310089111, 0.9999610185623169, 0.9997323155403137, 0.9998763203620911, 0.2252437025308609, 0.774739682674408, 0.9974836111068726, 0.9993272423744202, 0.9980847835540771, 0.3998221755027771, 0.6001178622245789, 0.9993288516998291, 0.9999685883522034, 0.9976995587348938], \"Term\": [\"add\", \"affordable\", \"also\", \"also\", \"also\", \"always\", \"amazing\", \"american\", \"apple\", \"area\", \"arrive\", \"ask\", \"attentive\", \"attitude\", \"average\", \"away\", \"awesome\", \"awhile\", \"back\", \"bacon\", \"bad\", \"bad\", \"banana_muffin\", \"bar\", \"basic\", \"basically\", \"beef\", \"beer\", \"better\", \"bill\", \"bite\", \"bite\", \"blow\", \"bottom\", \"box\", \"bread\", \"breakfast\", \"bring\", \"bun\", \"burger\", \"burgr\", \"busy\", \"buy\", \"car\", \"care\", \"casino\", \"check\", \"cheese\", \"chicken\", \"choice\", \"choose\", \"club\", \"coffee\", \"coffee\", \"cold\", \"come\", \"come\", \"complaint\", \"consistently\", \"cook\", \"cool\", \"corned_beef\", \"cover\", \"crazy\", \"crowd\", \"customer\", \"cut\", \"day\", \"decent\", \"decide\", \"definitely\", \"delicious\", \"delish\", \"dessert\", \"dice\", \"different\", \"diner\", \"dining\", \"disappointed\", \"dish\", \"dog\", \"door\", \"drink\", \"drive\", \"drunk\", \"duck\", \"early\", \"easily\", \"eat\", \"efficient\", \"egg\", \"end\", \"enjoy\", \"entire\", \"equally\", \"even\", \"ever\", \"everywhere\", \"excellent\", \"exceptional\", \"expect\", \"expensive\", \"experience\", \"experience\", \"face\", \"far\", \"fast\", \"favorite\", \"feel\", \"find\", \"find\", \"first\", \"fix\", \"flavor\", \"flavorful\", \"flip\", \"food\", \"food\", \"food\", \"free\", \"french_toast\", \"frequently\", \"fresh\", \"friend\", \"friend\", \"friendly\", \"front\", \"fruit\", \"fry\", \"generous\", \"get\", \"give\", \"glass\", \"go\", \"good\", \"good\", \"gordon_ramsay\", \"gordon_ramsey\", \"great\", \"gross\", \"group\", \"guess\", \"guy\", \"half\", \"handful\", \"head\", \"heart\", \"hearty\", \"hell_kitchen\", \"high\", \"hit\", \"hollandaise_sauce\", \"home\", \"host\", \"hostess\", \"hot\", \"hot\", \"hour\", \"however\", \"huge\", \"hype\", \"ihop\", \"imagine\", \"item\", \"joint\", \"juice\", \"ketchup\", \"know\", \"large\", \"last\", \"late\", \"less\", \"life\", \"line\", \"list\", \"little\", \"little\", \"little\", \"local\", \"locate\", \"long\", \"long\", \"look\", \"lot\", \"love\", \"low\", \"make\", \"make\", \"manager\", \"many\", \"massive\", \"meal\", \"meal\", \"meat\", \"meat\", \"medium\", \"menu\", \"mexican\", \"milkshake\", \"mine\", \"minute\", \"mister\", \"money\", \"mood\", \"morning\", \"much\", \"muffin\", \"mushroom\", \"name\", \"need\", \"need\", \"need\", \"negative\", \"never\", \"never\", \"newspaper\", \"next\", \"nice\", \"night\", \"noodle\", \"normal\", \"normally\", \"often\", \"old\", \"omelet\", \"omelette\", \"onion\", \"onion_ring\", \"open\", \"option\", \"order\", \"order\", \"ordinary\", \"oreo_shake\", \"original\", \"other\", \"overall\", \"pancake\", \"park\", \"parking\", \"party\", \"pass\", \"patty\", \"pay\", \"people\", \"perfect\", \"perfectly\", \"pho\", \"place\", \"plate\", \"pleasant\", \"plentiful\", \"poor\", \"popper\", \"popper\", \"popper\", \"popper\", \"popper\", \"pork\", \"portion\", \"potato\", \"potatoe\", \"pretty\", \"price\", \"pro\", \"probably\", \"professional\", \"pudding\", \"quality\", \"question\", \"quick\", \"ramsay\", \"really\", \"really\", \"really\", \"reason\", \"recommend\", \"recommendation\", \"remind\", \"review\", \"right\", \"right\", \"ring\", \"ruin\", \"sadly\", \"salt\", \"salty\", \"saturday_morning\", \"sauce\", \"sausage\", \"say\", \"say\", \"scramble\", \"scrambled_egg\", \"season\", \"seat\", \"see\", \"seem\", \"selection\", \"seriously\", \"serve\", \"serve\", \"server\", \"service\", \"service\", \"serving\", \"set\", \"shake\", \"show\", \"side\", \"side\", \"simply\", \"sit\", \"size\", \"slice\", \"smile\", \"somewhere\", \"spicy\", \"spot\", \"staff\", \"staff\", \"star\", \"star\", \"steak\", \"still\", \"stop\", \"strip\", \"style\", \"style\", \"sugar\", \"super\", \"sure\", \"sure\", \"sweet\", \"sweet_potato\", \"table\", \"take\", \"taste\", \"taste\", \"tasty\", \"tell\", \"thank\", \"thing\", \"thing\", \"think\", \"think\", \"third\", \"time\", \"tip\", \"toast\", \"top\", \"traditional\", \"truffle\", \"truffle_aioli\", \"truffle_parmesan\", \"try\", \"try\", \"try\", \"typical\", \"usually\", \"usually\", \"vacation\", \"value\", \"vegas\", \"veggie\", \"venture\", \"visit\", \"visit\", \"wait\", \"waiter\", \"waitress\", \"walk\", \"want\", \"warm\", \"way\", \"well\", \"well\", \"whipped_cream\", \"wing\", \"woman\", \"work\", \"work\", \"world\", \"worth\", \"write_home\"]}, \"R\": 30, \"lambda.step\": 0.01, \"plot.opts\": {\"xlab\": \"PC1\", \"ylab\": \"PC2\"}, \"topic.order\": [7, 3, 1, 2, 5, 10, 6, 9, 4, 8]};\n",
              "\n",
              "function LDAvis_load_lib(url, callback){\n",
              "  var s = document.createElement('script');\n",
              "  s.src = url;\n",
              "  s.async = true;\n",
              "  s.onreadystatechange = s.onload = callback;\n",
              "  s.onerror = function(){console.warn(\"failed to load library \" + url);};\n",
              "  document.getElementsByTagName(\"head\")[0].appendChild(s);\n",
              "}\n",
              "\n",
              "if(typeof(LDAvis) !== \"undefined\"){\n",
              "   // already loaded: just create the visualization\n",
              "   !function(LDAvis){\n",
              "       new LDAvis(\"#\" + \"ldavis_el7634180642347444243335036\", ldavis_el7634180642347444243335036_data);\n",
              "   }(LDAvis);\n",
              "}else if(typeof define === \"function\" && define.amd){\n",
              "   // require.js is available: use it to load d3/LDAvis\n",
              "   require.config({paths: {d3: \"https://cdnjs.cloudflare.com/ajax/libs/d3/3.5.5/d3.min\"}});\n",
              "   require([\"d3\"], function(d3){\n",
              "      window.d3 = d3;\n",
              "      LDAvis_load_lib(\"https://cdn.rawgit.com/bmabey/pyLDAvis/files/ldavis.v1.0.0.js\", function(){\n",
              "        new LDAvis(\"#\" + \"ldavis_el7634180642347444243335036\", ldavis_el7634180642347444243335036_data);\n",
              "      });\n",
              "    });\n",
              "}else{\n",
              "    // require.js not available: dynamically load d3 & LDAvis\n",
              "    LDAvis_load_lib(\"https://cdnjs.cloudflare.com/ajax/libs/d3/3.5.5/d3.min.js\", function(){\n",
              "         LDAvis_load_lib(\"https://cdn.rawgit.com/bmabey/pyLDAvis/files/ldavis.v1.0.0.js\", function(){\n",
              "                 new LDAvis(\"#\" + \"ldavis_el7634180642347444243335036\", ldavis_el7634180642347444243335036_data);\n",
              "            })\n",
              "         });\n",
              "}\n",
              "</script>"
            ],
            "text/plain": [
              "PreparedData(topic_coordinates=              x         y  topics  cluster       Freq\n",
              "topic                                                \n",
              "6      0.272086 -0.124772       1        1  25.570688\n",
              "2      0.115432  0.056345       2        1  25.229969\n",
              "0      0.217921  0.090594       3        1  13.829927\n",
              "1      0.156340 -0.236426       4        1  10.840468\n",
              "4      0.046538  0.375589       5        1  10.501698\n",
              "9     -0.140424  0.016159       6        1   4.861615\n",
              "5     -0.154194 -0.046974       7        1   3.440781\n",
              "8     -0.141538 -0.046580       8        1   3.040566\n",
              "3     -0.186082 -0.044938       9        1   1.617773\n",
              "7     -0.186080 -0.038998      10        1   1.066517, topic_info=     Category           Freq        Term          Total  loglift  logprob\n",
              "12    Default  113826.000000        food  113826.000000  30.0000  30.0000\n",
              "53    Default   54083.000000      burger   54083.000000  29.0000  29.0000\n",
              "173   Default   36807.000000         fry   36807.000000  28.0000  28.0000\n",
              "347   Default   33972.000000   breakfast   33972.000000  27.0000  27.0000\n",
              "134   Default   48250.000000        wait   48250.000000  26.0000  26.0000\n",
              "...       ...            ...         ...            ...      ...      ...\n",
              "1946  Topic10     512.915039        ruin     514.049194   4.5386  -4.6180\n",
              "1704  Topic10     499.933411    ordinary     501.067688   4.5385  -4.6436\n",
              "1407  Topic10     483.335632         pro     484.469818   4.5384  -4.6774\n",
              "2353  Topic10     468.342255  frequently     469.476532   4.5384  -4.7089\n",
              "1637  Topic10     448.900940  write_home     450.035278   4.5382  -4.7513\n",
              "\n",
              "[377 rows x 6 columns], token_table=      Topic      Freq        Term\n",
              "term                             \n",
              "288       5  0.999834         add\n",
              "385       9  0.998949  affordable\n",
              "169       1  0.968561        also\n",
              "169       3  0.028757        also\n",
              "169       5  0.002655        also\n",
              "...     ...       ...         ...\n",
              "951       2  0.399822        work\n",
              "951       4  0.600118        work\n",
              "2271     10  0.999329       world\n",
              "168       3  0.999969       worth\n",
              "1637     10  0.997700  write_home\n",
              "\n",
              "[385 rows x 3 columns], R=30, lambda_step=0.01, plot_opts={'xlab': 'PC1', 'ylab': 'PC2'}, topic_order=[7, 3, 1, 2, 5, 10, 6, 9, 4, 8])"
            ]
          },
          "metadata": {
            "tags": []
          },
          "execution_count": 36
        }
      ]
    },
    {
      "cell_type": "markdown",
      "metadata": {
        "id": "eECtSl7_8HtS",
        "colab_type": "text"
      },
      "source": [
        "### 10. Builid a LDA Mallet Model\n",
        "\n",
        "coherence socre : 0.4479501138412729"
      ]
    },
    {
      "cell_type": "code",
      "metadata": {
        "id": "8jCnvssp8HtT",
        "colab_type": "code",
        "colab": {}
      },
      "source": [
        "mallet_path = '../mallet-2.0.8/bin/mallet' \n",
        "ldamallet = gensim.models.wrappers.LdaMallet(mallet_path, corpus=corpus, num_topics=10, id2word=id2word)"
      ],
      "execution_count": 0,
      "outputs": []
    },
    {
      "cell_type": "code",
      "metadata": {
        "id": "va5pikfb8HtV",
        "colab_type": "code",
        "outputId": "af6aff0b-9ba8-4b04-98bc-479b847a596e",
        "colab": {}
      },
      "source": [
        "# Show Topics\n",
        "pprint(ldamallet.show_topics(formatted=False))\n",
        "\n",
        "# Compute Coherence Score\n",
        "coherence_model_ldamallet = CoherenceModel(model=ldamallet, texts=data_lemmatized, dictionary=id2word, coherence='c_v')\n",
        "coherence_ldamallet = coherence_model_ldamallet.get_coherence()\n",
        "print('\\nCoherence Score: ', coherence_ldamallet)"
      ],
      "execution_count": 0,
      "outputs": [
        {
          "output_type": "stream",
          "text": [
            "[(0,\n",
            "  [('burger', 0.08836882999986763),\n",
            "   ('fry', 0.07415251432882841),\n",
            "   ('good', 0.05618224416588349),\n",
            "   ('order', 0.04786424345109667),\n",
            "   ('cheese', 0.01916158153202642),\n",
            "   ('love', 0.013379750354084213),\n",
            "   ('menu', 0.01241081710723126),\n",
            "   ('friend', 0.011772803685123168),\n",
            "   ('taste', 0.011097727242643652),\n",
            "   ('delicious', 0.010181741167749878)]),\n",
            " (1,\n",
            "  [('good', 0.04833776477999196),\n",
            "   ('dish', 0.03847389578552979),\n",
            "   ('sauce', 0.028349452667848947),\n",
            "   ('flavor', 0.02652290395946175),\n",
            "   ('meat', 0.0231379702034755),\n",
            "   ('taste', 0.019211649434199975),\n",
            "   ('order', 0.017359802267247856),\n",
            "   ('make', 0.014743941651635166),\n",
            "   ('beef', 0.01365357808748713),\n",
            "   ('soup', 0.012747893270863007)]),\n",
            " (2,\n",
            "  [('place', 0.0656411692122645),\n",
            "   ('night', 0.03196513930797067),\n",
            "   ('find', 0.030277579037961033),\n",
            "   ('pizza', 0.02605478997521801),\n",
            "   ('eat', 0.01933306373845149),\n",
            "   ('slice', 0.014488132640681868),\n",
            "   ('day', 0.01404226418224614),\n",
            "   ('open', 0.013357907943716885),\n",
            "   ('spot', 0.012295081967213115),\n",
            "   ('late', 0.011647017347393743)]),\n",
            " (3,\n",
            "  [('chicken', 0.05882462641833154),\n",
            "   ('breakfast', 0.03545462537930961),\n",
            "   ('portion', 0.03458344545001638),\n",
            "   ('huge', 0.030619177147911434),\n",
            "   ('order', 0.025717124946383806),\n",
            "   ('waffle', 0.024643468947897047),\n",
            "   ('good', 0.023892176164836833),\n",
            "   ('egg', 0.022424224663183723),\n",
            "   ('big', 0.018017705999419212),\n",
            "   ('meal', 0.016232719599949912)]),\n",
            " (4,\n",
            "  [('table', 0.04939333449852358),\n",
            "   ('server', 0.03241911893219512),\n",
            "   ('order', 0.024225225142352518),\n",
            "   ('service', 0.023355931891563715),\n",
            "   ('drink', 0.0225993248029142),\n",
            "   ('experience', 0.015007957022877591),\n",
            "   ('bring', 0.012931312034882117),\n",
            "   ('leave', 0.012892216835772567),\n",
            "   ('give', 0.012742735192118408),\n",
            "   ('waitress', 0.01181364928386794)]),\n",
            " (5,\n",
            "  [('steak', 0.03287344200828976),\n",
            "   ('bread', 0.023875780521503093),\n",
            "   ('meal', 0.022708964951594243),\n",
            "   ('dinner', 0.017712162709746085),\n",
            "   ('reservation', 0.017548613247018275),\n",
            "   ('make', 0.01544443956237093),\n",
            "   ('experience', 0.01452416870493236),\n",
            "   ('nice', 0.013003402805239442),\n",
            "   ('perfect', 0.01280567882791179),\n",
            "   ('enjoy', 0.0127055963208694)]),\n",
            " (6,\n",
            "  [('buffet', 0.046311229784974005),\n",
            "   ('dessert', 0.04134852921829548),\n",
            "   ('food', 0.025917137274583276),\n",
            "   ('selection', 0.0217778990503384),\n",
            "   ('quality', 0.019726552031613158),\n",
            "   ('good', 0.019046830157237453),\n",
            "   ('dinner', 0.018152715720334646),\n",
            "   ('item', 0.01758506268546175),\n",
            "   ('option', 0.01579927009077576),\n",
            "   ('plate', 0.015638475668880433)]),\n",
            " (7,\n",
            "  [('great', 0.12685616594355512),\n",
            "   ('service', 0.07982251665312297),\n",
            "   ('food', 0.07026507216587607),\n",
            "   ('place', 0.06996982895576695),\n",
            "   ('good', 0.06712987045852677),\n",
            "   ('amazing', 0.043161745477858164),\n",
            "   ('sandwich', 0.03956259015462309),\n",
            "   ('love', 0.03840973571514935),\n",
            "   ('friendly', 0.02306833614985983),\n",
            "   ('awesome', 0.020751379910527248)]),\n",
            " (8,\n",
            "  [('wait', 0.10124014640004773),\n",
            "   ('time', 0.09525341163470542),\n",
            "   ('line', 0.053584907618042174),\n",
            "   ('food', 0.047945756240289066),\n",
            "   ('long', 0.04035858154850993),\n",
            "   ('people', 0.03115540349502878),\n",
            "   ('seat', 0.030758535895766485),\n",
            "   ('minute', 0.030307196273076036),\n",
            "   ('hour', 0.029518648886306512),\n",
            "   ('worth', 0.027220448278813755)]),\n",
            " (9,\n",
            "  [('food', 0.07197016845075098),\n",
            "   ('good', 0.03254138660692059),\n",
            "   ('star', 0.03126296572898515),\n",
            "   ('give', 0.02799041573313418),\n",
            "   ('bad', 0.02696093685171355),\n",
            "   ('expect', 0.02458302215583769),\n",
            "   ('review', 0.022153244544021244),\n",
            "   ('taste', 0.022041739274748985),\n",
            "   ('price', 0.021925047713882664),\n",
            "   ('thing', 0.01909592564932371)])]\n",
            "\n",
            "Coherence Score:  0.4479501138412729\n"
          ],
          "name": "stdout"
        }
      ]
    },
    {
      "cell_type": "markdown",
      "metadata": {
        "id": "PFrKB-hW8HtZ",
        "colab_type": "text"
      },
      "source": [
        "### 11. Find the optimal number of topics for LDA"
      ]
    },
    {
      "cell_type": "code",
      "metadata": {
        "id": "v10p4DST8Htb",
        "colab_type": "code",
        "colab": {}
      },
      "source": [
        "def compute_coherence_values(dictionary, corpus, texts, limit, start=2, step=3):\n",
        "    \"\"\"\n",
        "    Compute c_v coherence for various number of topics\n",
        "\n",
        "    Parameters:\n",
        "    ----------\n",
        "    dictionary : Gensim dictionary\n",
        "    corpus : Gensim corpus\n",
        "    texts : List of input texts\n",
        "    limit : Max num of topics\n",
        "\n",
        "    Returns:\n",
        "    -------\n",
        "    model_list : List of LDA topic models\n",
        "    coherence_values : Coherence values corresponding to the LDA model with respective number of topics\n",
        "    \"\"\"\n",
        "    coherence_values = []\n",
        "    model_list = []\n",
        "    for num_topics in range(start, limit, step):\n",
        "        model = gensim.models.wrappers.LdaMallet(mallet_path, corpus=corpus, num_topics=num_topics, id2word=id2word)\n",
        "        model_list.append(model)\n",
        "        coherencemodel = CoherenceModel(model=model, texts=texts, dictionary=dictionary, coherence='c_v')\n",
        "        coherence_values.append(coherencemodel.get_coherence())\n",
        "\n",
        "    return model_list, coherence_values"
      ],
      "execution_count": 0,
      "outputs": []
    },
    {
      "cell_type": "code",
      "metadata": {
        "id": "gJLmykSN8Htd",
        "colab_type": "code",
        "colab": {}
      },
      "source": [
        "# Can take a long time to run.\n",
        "model_list, coherence_values = compute_coherence_values(dictionary=id2word, corpus=corpus, texts=data_lemmatized, start=2, limit=40, step=6)"
      ],
      "execution_count": 0,
      "outputs": []
    },
    {
      "cell_type": "code",
      "metadata": {
        "id": "udSlxv8S8Hte",
        "colab_type": "code",
        "outputId": "cc56924b-95ba-4c24-dcb5-58c10eb48f15",
        "colab": {}
      },
      "source": [
        "# Show graph\n",
        "limit=40; start=2; step=6;\n",
        "x = range(start, limit, step)\n",
        "plt.plot(x, coherence_values)\n",
        "plt.xlabel(\"Num Topics\")\n",
        "plt.ylabel(\"Coherence score\")\n",
        "plt.legend((\"coherence_values\"), loc='best')\n",
        "plt.show()"
      ],
      "execution_count": 0,
      "outputs": [
        {
          "output_type": "display_data",
          "data": {
            "image/png": "[encoded data removed]",
            "text/plain": [
              "<Figure size 432x288 with 1 Axes>"
            ]
          },
          "metadata": {
            "tags": [],
            "needs_background": "light"
          }
        }
      ]
    },
    {
      "cell_type": "code",
      "metadata": {
        "id": "bHNMG8U08Htg",
        "colab_type": "code",
        "outputId": "5f9a28cb-3d9a-43f4-c779-1da973ba9cb4",
        "colab": {}
      },
      "source": [
        "# Print the coherence scores\n",
        "for m, cv in zip(x, coherence_values):\n",
        "    print(\"Num Topics =\", m, \" has Coherence Value of\", round(cv, 4))"
      ],
      "execution_count": 0,
      "outputs": [
        {
          "output_type": "stream",
          "text": [
            "Num Topics = 2  has Coherence Value of 0.3588\n",
            "Num Topics = 8  has Coherence Value of 0.4341\n",
            "Num Topics = 14  has Coherence Value of 0.4688\n",
            "Num Topics = 20  has Coherence Value of 0.4565\n",
            "Num Topics = 26  has Coherence Value of 0.476\n",
            "Num Topics = 32  has Coherence Value of 0.4729\n",
            "Num Topics = 38  has Coherence Value of 0.4732\n"
          ],
          "name": "stdout"
        }
      ]
    },
    {
      "cell_type": "code",
      "metadata": {
        "id": "hB-RJHaq8Hti",
        "colab_type": "code",
        "outputId": "0cda5273-c3b9-4ea4-adc5-a88c416a735a",
        "colab": {}
      },
      "source": [
        "# Select the model and print the topics\n",
        "optimal_model = model_list[2] # topic number of 14\n",
        "model_topics = optimal_model.show_topics(formatted=False)\n",
        "pprint(optimal_model.print_topics(num_words=10))"
      ],
      "execution_count": 0,
      "outputs": [
        {
          "output_type": "stream",
          "text": [
            "[(0,\n",
            "  '0.041*\"place\" + 0.040*\"find\" + 0.036*\"pizza\" + 0.035*\"night\" + '\n",
            "  '0.020*\"slice\" + 0.013*\"walk\" + 0.012*\"late\" + 0.012*\"hotel\" + 0.010*\"white\" '\n",
            "  '+ 0.010*\"casino\"'),\n",
            " (1,\n",
            "  '0.092*\"place\" + 0.058*\"good\" + 0.056*\"sandwich\" + 0.043*\"love\" + '\n",
            "  '0.029*\"delicious\" + 0.022*\"lunch\" + 0.019*\"friend\" + 0.019*\"open\" + '\n",
            "  '0.019*\"eat\" + 0.018*\"super\"'),\n",
            " (2,\n",
            "  '0.123*\"burger\" + 0.103*\"fry\" + 0.059*\"order\" + 0.028*\"good\" + 0.015*\"taste\" '\n",
            "  '+ 0.015*\"cheese\" + 0.014*\"shake\" + 0.013*\"menu\" + 0.013*\"flavor\" + '\n",
            "  '0.013*\"truffle\"'),\n",
            " (3,\n",
            "  '0.136*\"wait\" + 0.072*\"line\" + 0.062*\"time\" + 0.053*\"long\" + 0.042*\"minute\" '\n",
            "  '+ 0.040*\"hour\" + 0.035*\"seat\" + 0.032*\"people\" + 0.019*\"pay\" + '\n",
            "  '0.018*\"table\"'),\n",
            " (4,\n",
            "  '0.043*\"star\" + 0.033*\"give\" + 0.033*\"food\" + 0.032*\"bad\" + 0.031*\"taste\" + '\n",
            "  '0.028*\"review\" + 0.024*\"chocolate\" + 0.023*\"expect\" + 0.017*\"high\" + '\n",
            "  '0.015*\"quality\"'),\n",
            " (5,\n",
            "  '0.234*\"good\" + 0.129*\"food\" + 0.069*\"eat\" + 0.066*\"pretty\" + 0.060*\"place\" '\n",
            "  '+ 0.041*\"price\" + 0.036*\"thing\" + 0.036*\"worth\" + 0.023*\"lot\" + '\n",
            "  '0.020*\"big\"'),\n",
            " (6,\n",
            "  '0.095*\"time\" + 0.074*\"amazing\" + 0.051*\"make\" + 0.042*\"back\" + '\n",
            "  '0.041*\"visit\" + 0.036*\"love\" + 0.034*\"experience\" + 0.028*\"eat\" + '\n",
            "  '0.019*\"delicious\" + 0.018*\"absolutely\"'),\n",
            " (7,\n",
            "  '0.061*\"buffet\" + 0.053*\"dessert\" + 0.029*\"selection\" + 0.021*\"quality\" + '\n",
            "  '0.020*\"item\" + 0.020*\"dinner\" + 0.019*\"plate\" + 0.016*\"option\" + '\n",
            "  '0.016*\"variety\" + 0.015*\"fresh\"'),\n",
            " (8,\n",
            "  '0.176*\"great\" + 0.130*\"food\" + 0.129*\"service\" + 0.041*\"drink\" + '\n",
            "  '0.034*\"friendly\" + 0.031*\"staff\" + 0.026*\"nice\" + 0.025*\"excellent\" + '\n",
            "  '0.024*\"awesome\" + 0.022*\"place\"'),\n",
            " (9,\n",
            "  '0.047*\"steak\" + 0.031*\"order\" + 0.030*\"dinner\" + 0.025*\"reservation\" + '\n",
            "  '0.023*\"meal\" + 0.019*\"sit\" + 0.018*\"make\" + 0.017*\"enjoy\" + 0.016*\"french\" '\n",
            "  '+ 0.014*\"menu\"'),\n",
            " (10,\n",
            "  '0.080*\"chicken\" + 0.048*\"breakfast\" + 0.047*\"portion\" + 0.042*\"huge\" + '\n",
            "  '0.034*\"waffle\" + 0.029*\"egg\" + 0.027*\"order\" + 0.018*\"plate\" + '\n",
            "  '0.017*\"share\" + 0.017*\"large\"'),\n",
            " (11,\n",
            "  '0.056*\"dish\" + 0.047*\"good\" + 0.038*\"order\" + 0.026*\"meat\" + 0.018*\"make\" + '\n",
            "  '0.017*\"beef\" + 0.017*\"small\" + 0.016*\"spicy\" + 0.014*\"pork\" + 0.014*\"soup\"'),\n",
            " (12,\n",
            "  '0.028*\"sauce\" + 0.023*\"flavor\" + 0.020*\"cook\" + 0.017*\"perfectly\" + '\n",
            "  '0.015*\"side\" + 0.014*\"top\" + 0.013*\"bread\" + 0.013*\"taste\" + 0.013*\"sweet\" '\n",
            "  '+ 0.013*\"fish\"'),\n",
            " (13,\n",
            "  '0.041*\"table\" + 0.027*\"server\" + 0.020*\"order\" + 0.016*\"drink\" + '\n",
            "  '0.015*\"bring\" + 0.015*\"leave\" + 0.014*\"give\" + 0.014*\"check\" + '\n",
            "  '0.013*\"customer\" + 0.012*\"waitress\"')]\n"
          ],
          "name": "stdout"
        }
      ]
    },
    {
      "cell_type": "markdown",
      "metadata": {
        "id": "GvF-TG4n8Htl",
        "colab_type": "text"
      },
      "source": [
        "### 12. find the dominant topic in each sentence"
      ]
    },
    {
      "cell_type": "code",
      "metadata": {
        "id": "C1OQT1GF8Htl",
        "colab_type": "code",
        "outputId": "0508d50c-670d-48e4-f81d-545f8c44073f",
        "colab": {}
      },
      "source": [
        "def format_topics_sentences(ldamodel=lda_model, corpus=corpus, texts=data):\n",
        "    # Init output\n",
        "    sent_topics_df = pd.DataFrame()\n",
        "\n",
        "    # Get main topic in each document\n",
        "    for i, row in enumerate(ldamodel[corpus]):\n",
        "        row = sorted(row, key=lambda x: (x[1]), reverse=True)\n",
        "        # Get the Dominant topic, Perc Contribution and Keywords for each document\n",
        "        for j, (topic_num, prop_topic) in enumerate(row):\n",
        "            if j == 0:  # => dominant topic\n",
        "                wp = ldamodel.show_topic(topic_num)\n",
        "                topic_keywords = \", \".join([word for word, prop in wp])\n",
        "                sent_topics_df = sent_topics_df.append(pd.Series([int(topic_num), round(prop_topic,4), topic_keywords]), ignore_index=True)\n",
        "            else:\n",
        "                break\n",
        "    sent_topics_df.columns = ['Dominant_Topic', 'Perc_Contribution', 'Topic_Keywords']\n",
        "\n",
        "    # Add original text to the end of the output\n",
        "    contents = pd.Series(texts)\n",
        "    sent_topics_df = pd.concat([sent_topics_df, contents], axis=1)\n",
        "    return(sent_topics_df)\n",
        "\n",
        "\n",
        "df_topic_sents_keywords = format_topics_sentences(ldamodel=optimal_model, corpus=corpus, texts=data)\n",
        "\n",
        "# Format\n",
        "df_dominant_topic = df_topic_sents_keywords.reset_index()\n",
        "df_dominant_topic.columns = ['Document_No', 'Dominant_Topic', 'Topic_Perc_Contrib', 'Keywords', 'Text']\n",
        "\n",
        "# Show\n",
        "df_dominant_topic.head(10)"
      ],
      "execution_count": 0,
      "outputs": [
        {
          "output_type": "execute_result",
          "data": {
            "text/html": [
              "<div>\n",
              "<style scoped>\n",
              "    .dataframe tbody tr th:only-of-type {\n",
              "        vertical-align: middle;\n",
              "    }\n",
              "\n",
              "    .dataframe tbody tr th {\n",
              "        vertical-align: top;\n",
              "    }\n",
              "\n",
              "    .dataframe thead th {\n",
              "        text-align: right;\n",
              "    }\n",
              "</style>\n",
              "<table border=\"1\" class=\"dataframe\">\n",
              "  <thead>\n",
              "    <tr style=\"text-align: right;\">\n",
              "      <th></th>\n",
              "      <th>Document_No</th>\n",
              "      <th>Dominant_Topic</th>\n",
              "      <th>Topic_Perc_Contrib</th>\n",
              "      <th>Keywords</th>\n",
              "      <th>Text</th>\n",
              "    </tr>\n",
              "  </thead>\n",
              "  <tbody>\n",
              "    <tr>\n",
              "      <th>0</th>\n",
              "      <td>0</td>\n",
              "      <td>4.0</td>\n",
              "      <td>0.1246</td>\n",
              "      <td>star, give, food, bad, taste, review, chocolat...</td>\n",
              "      <td>We had dinner at the Bellagio Buffet last nig...</td>\n",
              "    </tr>\n",
              "    <tr>\n",
              "      <th>1</th>\n",
              "      <td>1</td>\n",
              "      <td>12.0</td>\n",
              "      <td>0.1871</td>\n",
              "      <td>sauce, flavor, cook, perfectly, side, top, bre...</td>\n",
              "      <td>Wonderful experience. We sat outside on the p...</td>\n",
              "    </tr>\n",
              "    <tr>\n",
              "      <th>2</th>\n",
              "      <td>2</td>\n",
              "      <td>5.0</td>\n",
              "      <td>0.1234</td>\n",
              "      <td>good, food, eat, pretty, place, price, thing, ...</td>\n",
              "      <td>\"Good morning, cocktails for you?\" Wait...wha...</td>\n",
              "    </tr>\n",
              "    <tr>\n",
              "      <th>3</th>\n",
              "      <td>3</td>\n",
              "      <td>2.0</td>\n",
              "      <td>0.1049</td>\n",
              "      <td>burger, fry, order, good, taste, cheese, shake...</td>\n",
              "      <td>Hands down best Bloody Mary ever. So many thi...</td>\n",
              "    </tr>\n",
              "    <tr>\n",
              "      <th>4</th>\n",
              "      <td>4</td>\n",
              "      <td>3.0</td>\n",
              "      <td>0.0950</td>\n",
              "      <td>wait, line, time, long, minute, hour, seat, pe...</td>\n",
              "      <td>Service was amazing, Christina was extremely ...</td>\n",
              "    </tr>\n",
              "    <tr>\n",
              "      <th>5</th>\n",
              "      <td>5</td>\n",
              "      <td>9.0</td>\n",
              "      <td>0.1062</td>\n",
              "      <td>steak, order, dinner, reservation, meal, sit, ...</td>\n",
              "      <td>Around $45 for a dinner on a Friday night.Sno...</td>\n",
              "    </tr>\n",
              "    <tr>\n",
              "      <th>6</th>\n",
              "      <td>6</td>\n",
              "      <td>7.0</td>\n",
              "      <td>0.1484</td>\n",
              "      <td>buffet, dessert, selection, quality, item, din...</td>\n",
              "      <td>Went for Saturday Brunch. Wait was doable com...</td>\n",
              "    </tr>\n",
              "    <tr>\n",
              "      <th>7</th>\n",
              "      <td>7</td>\n",
              "      <td>7.0</td>\n",
              "      <td>0.1627</td>\n",
              "      <td>buffet, dessert, selection, quality, item, din...</td>\n",
              "      <td>Having dined at many other Vegas buffets (the...</td>\n",
              "    </tr>\n",
              "    <tr>\n",
              "      <th>8</th>\n",
              "      <td>8</td>\n",
              "      <td>10.0</td>\n",
              "      <td>0.1560</td>\n",
              "      <td>chicken, breakfast, portion, huge, waffle, egg...</td>\n",
              "      <td>We chose this place to split lunch and it was...</td>\n",
              "    </tr>\n",
              "    <tr>\n",
              "      <th>9</th>\n",
              "      <td>9</td>\n",
              "      <td>6.0</td>\n",
              "      <td>0.1153</td>\n",
              "      <td>time, amazing, make, back, visit, love, experi...</td>\n",
              "      <td>Had a 30 minute wait.. But played foosball (s...</td>\n",
              "    </tr>\n",
              "  </tbody>\n",
              "</table>\n",
              "</div>"
            ],
            "text/plain": [
              "   Document_No  Dominant_Topic  Topic_Perc_Contrib  \\\n",
              "0            0             4.0              0.1246   \n",
              "1            1            12.0              0.1871   \n",
              "2            2             5.0              0.1234   \n",
              "3            3             2.0              0.1049   \n",
              "4            4             3.0              0.0950   \n",
              "5            5             9.0              0.1062   \n",
              "6            6             7.0              0.1484   \n",
              "7            7             7.0              0.1627   \n",
              "8            8            10.0              0.1560   \n",
              "9            9             6.0              0.1153   \n",
              "\n",
              "                                            Keywords  \\\n",
              "0  star, give, food, bad, taste, review, chocolat...   \n",
              "1  sauce, flavor, cook, perfectly, side, top, bre...   \n",
              "2  good, food, eat, pretty, place, price, thing, ...   \n",
              "3  burger, fry, order, good, taste, cheese, shake...   \n",
              "4  wait, line, time, long, minute, hour, seat, pe...   \n",
              "5  steak, order, dinner, reservation, meal, sit, ...   \n",
              "6  buffet, dessert, selection, quality, item, din...   \n",
              "7  buffet, dessert, selection, quality, item, din...   \n",
              "8  chicken, breakfast, portion, huge, waffle, egg...   \n",
              "9  time, amazing, make, back, visit, love, experi...   \n",
              "\n",
              "                                                Text  \n",
              "0   We had dinner at the Bellagio Buffet last nig...  \n",
              "1   Wonderful experience. We sat outside on the p...  \n",
              "2   \"Good morning, cocktails for you?\" Wait...wha...  \n",
              "3   Hands down best Bloody Mary ever. So many thi...  \n",
              "4   Service was amazing, Christina was extremely ...  \n",
              "5   Around $45 for a dinner on a Friday night.Sno...  \n",
              "6   Went for Saturday Brunch. Wait was doable com...  \n",
              "7   Having dined at many other Vegas buffets (the...  \n",
              "8   We chose this place to split lunch and it was...  \n",
              "9   Had a 30 minute wait.. But played foosball (s...  "
            ]
          },
          "metadata": {
            "tags": []
          },
          "execution_count": 50
        }
      ]
    },
    {
      "cell_type": "markdown",
      "metadata": {
        "id": "Tq3HVbU38Hto",
        "colab_type": "text"
      },
      "source": [
        "### 13. find the most representative for each topic"
      ]
    },
    {
      "cell_type": "code",
      "metadata": {
        "id": "ExDDedc28Htq",
        "colab_type": "code",
        "outputId": "4f247d21-06e5-4490-96b6-3e93ef55df42",
        "colab": {}
      },
      "source": [
        "# Group top 5 sentences under each topic\n",
        "sent_topics_sorteddf_mallet = pd.DataFrame()\n",
        "\n",
        "sent_topics_outdf_grpd = df_topic_sents_keywords.groupby('Dominant_Topic')\n",
        "\n",
        "for i, grp in sent_topics_outdf_grpd:\n",
        "    sent_topics_sorteddf_mallet = pd.concat([sent_topics_sorteddf_mallet, \n",
        "                                             grp.sort_values(['Perc_Contribution'], ascending=[0]).head(1)], \n",
        "                                            axis=0)\n",
        "\n",
        "# Reset Index    \n",
        "sent_topics_sorteddf_mallet.reset_index(drop=True, inplace=True)\n",
        "\n",
        "# Format\n",
        "sent_topics_sorteddf_mallet.columns = ['Topic_Num', \"Topic_Perc_Contrib\", \"Keywords\", \"Text\"]\n",
        "\n",
        "# Show\n",
        "sent_topics_sorteddf_mallet.head()"
      ],
      "execution_count": 0,
      "outputs": [
        {
          "output_type": "execute_result",
          "data": {
            "text/html": [
              "<div>\n",
              "<style scoped>\n",
              "    .dataframe tbody tr th:only-of-type {\n",
              "        vertical-align: middle;\n",
              "    }\n",
              "\n",
              "    .dataframe tbody tr th {\n",
              "        vertical-align: top;\n",
              "    }\n",
              "\n",
              "    .dataframe thead th {\n",
              "        text-align: right;\n",
              "    }\n",
              "</style>\n",
              "<table border=\"1\" class=\"dataframe\">\n",
              "  <thead>\n",
              "    <tr style=\"text-align: right;\">\n",
              "      <th></th>\n",
              "      <th>Topic_Num</th>\n",
              "      <th>Topic_Perc_Contrib</th>\n",
              "      <th>Keywords</th>\n",
              "      <th>Text</th>\n",
              "    </tr>\n",
              "  </thead>\n",
              "  <tbody>\n",
              "    <tr>\n",
              "      <th>0</th>\n",
              "      <td>0.0</td>\n",
              "      <td>0.4933</td>\n",
              "      <td>place, find, pizza, night, slice, walk, late, ...</td>\n",
              "      <td>Secret Pizza is just what Cosmopolitan is abo...</td>\n",
              "    </tr>\n",
              "    <tr>\n",
              "      <th>1</th>\n",
              "      <td>1.0</td>\n",
              "      <td>0.3719</td>\n",
              "      <td>place, good, sandwich, love, delicious, lunch,...</td>\n",
              "      <td>Love, love, love this spot!  One of my favori...</td>\n",
              "    </tr>\n",
              "    <tr>\n",
              "      <th>2</th>\n",
              "      <td>2.0</td>\n",
              "      <td>0.4375</td>\n",
              "      <td>burger, fry, order, good, taste, cheese, shake...</td>\n",
              "      <td>This place is a gem. We come here every singl...</td>\n",
              "    </tr>\n",
              "    <tr>\n",
              "      <th>3</th>\n",
              "      <td>3.0</td>\n",
              "      <td>0.4574</td>\n",
              "      <td>wait, line, time, long, minute, hour, seat, pe...</td>\n",
              "      <td>The line is superrrr long.Here is what I disl...</td>\n",
              "    </tr>\n",
              "    <tr>\n",
              "      <th>4</th>\n",
              "      <td>4.0</td>\n",
              "      <td>0.3284</td>\n",
              "      <td>star, give, food, bad, taste, review, chocolat...</td>\n",
              "      <td>Do you miss your smelly school cafeteria? Do ...</td>\n",
              "    </tr>\n",
              "  </tbody>\n",
              "</table>\n",
              "</div>"
            ],
            "text/plain": [
              "   Topic_Num  Topic_Perc_Contrib  \\\n",
              "0        0.0              0.4933   \n",
              "1        1.0              0.3719   \n",
              "2        2.0              0.4375   \n",
              "3        3.0              0.4574   \n",
              "4        4.0              0.3284   \n",
              "\n",
              "                                            Keywords  \\\n",
              "0  place, find, pizza, night, slice, walk, late, ...   \n",
              "1  place, good, sandwich, love, delicious, lunch,...   \n",
              "2  burger, fry, order, good, taste, cheese, shake...   \n",
              "3  wait, line, time, long, minute, hour, seat, pe...   \n",
              "4  star, give, food, bad, taste, review, chocolat...   \n",
              "\n",
              "                                                Text  \n",
              "0   Secret Pizza is just what Cosmopolitan is abo...  \n",
              "1   Love, love, love this spot!  One of my favori...  \n",
              "2   This place is a gem. We come here every singl...  \n",
              "3   The line is superrrr long.Here is what I disl...  \n",
              "4   Do you miss your smelly school cafeteria? Do ...  "
            ]
          },
          "metadata": {
            "tags": []
          },
          "execution_count": 51
        }
      ]
    },
    {
      "cell_type": "markdown",
      "metadata": {
        "id": "vaCw05fm8Htt",
        "colab_type": "text"
      },
      "source": [
        "### 14. topic distribution across documents "
      ]
    },
    {
      "cell_type": "code",
      "metadata": {
        "id": "6TbE9KSj8Htu",
        "colab_type": "code",
        "outputId": "38d9361b-969a-459b-f5aa-f1b880da3e73",
        "colab": {}
      },
      "source": [
        "# Number of Documents for Each Topic\n",
        "topic_counts = df_topic_sents_keywords['Dominant_Topic'].value_counts()\n",
        "\n",
        "# Percentage of Documents for Each Topic\n",
        "topic_contribution = round(topic_counts/topic_counts.sum(), 4)\n",
        "\n",
        "# Topic Number and Keywords\n",
        "topic_num_keywords = df_topic_sents_keywords[['Dominant_Topic', 'Topic_Keywords']]\n",
        "\n",
        "# Concatenate Column wise\n",
        "df_dominant_topics = pd.concat([topic_num_keywords, topic_counts, topic_contribution], axis=1)\n",
        "\n",
        "# Change Column names\n",
        "df_dominant_topics.columns = ['Dominant_Topic', 'Topic_Keywords', 'Num_Documents', 'Perc_Documents']\n",
        "\n",
        "# Show\n",
        "df_dominant_topics"
      ],
      "execution_count": 0,
      "outputs": [
        {
          "output_type": "execute_result",
          "data": {
            "text/html": [
              "<div>\n",
              "<style scoped>\n",
              "    .dataframe tbody tr th:only-of-type {\n",
              "        vertical-align: middle;\n",
              "    }\n",
              "\n",
              "    .dataframe tbody tr th {\n",
              "        vertical-align: top;\n",
              "    }\n",
              "\n",
              "    .dataframe thead th {\n",
              "        text-align: right;\n",
              "    }\n",
              "</style>\n",
              "<table border=\"1\" class=\"dataframe\">\n",
              "  <thead>\n",
              "    <tr style=\"text-align: right;\">\n",
              "      <th></th>\n",
              "      <th>Dominant_Topic</th>\n",
              "      <th>Topic_Keywords</th>\n",
              "      <th>Num_Documents</th>\n",
              "      <th>Perc_Documents</th>\n",
              "    </tr>\n",
              "  </thead>\n",
              "  <tbody>\n",
              "    <tr>\n",
              "      <th>0.0</th>\n",
              "      <td>4.0</td>\n",
              "      <td>star, give, food, bad, taste, review, chocolat...</td>\n",
              "      <td>6427.0</td>\n",
              "      <td>0.0609</td>\n",
              "    </tr>\n",
              "    <tr>\n",
              "      <th>1.0</th>\n",
              "      <td>12.0</td>\n",
              "      <td>sauce, flavor, cook, perfectly, side, top, bre...</td>\n",
              "      <td>6553.0</td>\n",
              "      <td>0.0621</td>\n",
              "    </tr>\n",
              "    <tr>\n",
              "      <th>2.0</th>\n",
              "      <td>5.0</td>\n",
              "      <td>good, food, eat, pretty, place, price, thing, ...</td>\n",
              "      <td>9537.0</td>\n",
              "      <td>0.0904</td>\n",
              "    </tr>\n",
              "    <tr>\n",
              "      <th>3.0</th>\n",
              "      <td>2.0</td>\n",
              "      <td>burger, fry, order, good, taste, cheese, shake...</td>\n",
              "      <td>7194.0</td>\n",
              "      <td>0.0682</td>\n",
              "    </tr>\n",
              "    <tr>\n",
              "      <th>4.0</th>\n",
              "      <td>3.0</td>\n",
              "      <td>wait, line, time, long, minute, hour, seat, pe...</td>\n",
              "      <td>6813.0</td>\n",
              "      <td>0.0646</td>\n",
              "    </tr>\n",
              "    <tr>\n",
              "      <th>...</th>\n",
              "      <td>...</td>\n",
              "      <td>...</td>\n",
              "      <td>...</td>\n",
              "      <td>...</td>\n",
              "    </tr>\n",
              "    <tr>\n",
              "      <th>105501.0</th>\n",
              "      <td>8.0</td>\n",
              "      <td>great, food, service, drink, friendly, staff, ...</td>\n",
              "      <td>NaN</td>\n",
              "      <td>NaN</td>\n",
              "    </tr>\n",
              "    <tr>\n",
              "      <th>105502.0</th>\n",
              "      <td>5.0</td>\n",
              "      <td>good, food, eat, pretty, place, price, thing, ...</td>\n",
              "      <td>NaN</td>\n",
              "      <td>NaN</td>\n",
              "    </tr>\n",
              "    <tr>\n",
              "      <th>105503.0</th>\n",
              "      <td>12.0</td>\n",
              "      <td>sauce, flavor, cook, perfectly, side, top, bre...</td>\n",
              "      <td>NaN</td>\n",
              "      <td>NaN</td>\n",
              "    </tr>\n",
              "    <tr>\n",
              "      <th>105504.0</th>\n",
              "      <td>6.0</td>\n",
              "      <td>time, amazing, make, back, visit, love, experi...</td>\n",
              "      <td>NaN</td>\n",
              "      <td>NaN</td>\n",
              "    </tr>\n",
              "    <tr>\n",
              "      <th>105505.0</th>\n",
              "      <td>1.0</td>\n",
              "      <td>place, good, sandwich, love, delicious, lunch,...</td>\n",
              "      <td>NaN</td>\n",
              "      <td>NaN</td>\n",
              "    </tr>\n",
              "  </tbody>\n",
              "</table>\n",
              "<p>105506 rows × 4 columns</p>\n",
              "</div>"
            ],
            "text/plain": [
              "          Dominant_Topic                                     Topic_Keywords  \\\n",
              "0.0                  4.0  star, give, food, bad, taste, review, chocolat...   \n",
              "1.0                 12.0  sauce, flavor, cook, perfectly, side, top, bre...   \n",
              "2.0                  5.0  good, food, eat, pretty, place, price, thing, ...   \n",
              "3.0                  2.0  burger, fry, order, good, taste, cheese, shake...   \n",
              "4.0                  3.0  wait, line, time, long, minute, hour, seat, pe...   \n",
              "...                  ...                                                ...   \n",
              "105501.0             8.0  great, food, service, drink, friendly, staff, ...   \n",
              "105502.0             5.0  good, food, eat, pretty, place, price, thing, ...   \n",
              "105503.0            12.0  sauce, flavor, cook, perfectly, side, top, bre...   \n",
              "105504.0             6.0  time, amazing, make, back, visit, love, experi...   \n",
              "105505.0             1.0  place, good, sandwich, love, delicious, lunch,...   \n",
              "\n",
              "          Num_Documents  Perc_Documents  \n",
              "0.0              6427.0          0.0609  \n",
              "1.0              6553.0          0.0621  \n",
              "2.0              9537.0          0.0904  \n",
              "3.0              7194.0          0.0682  \n",
              "4.0              6813.0          0.0646  \n",
              "...                 ...             ...  \n",
              "105501.0            NaN             NaN  \n",
              "105502.0            NaN             NaN  \n",
              "105503.0            NaN             NaN  \n",
              "105504.0            NaN             NaN  \n",
              "105505.0            NaN             NaN  \n",
              "\n",
              "[105506 rows x 4 columns]"
            ]
          },
          "metadata": {
            "tags": []
          },
          "execution_count": 52
        }
      ]
    },
    {
      "cell_type": "code",
      "metadata": {
        "id": "Zgg5zUGs8Htv",
        "colab_type": "code",
        "colab": {}
      },
      "source": [
        ""
      ],
      "execution_count": 0,
      "outputs": []
    }
  ]
}